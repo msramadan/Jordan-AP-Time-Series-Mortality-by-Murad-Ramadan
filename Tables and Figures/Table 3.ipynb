{
 "cells": [
  {
   "cell_type": "code",
   "execution_count": 1,
   "id": "38b839b7",
   "metadata": {},
   "outputs": [],
   "source": [
    "import pandas as pd\n",
    "import numpy as np"
   ]
  },
  {
   "cell_type": "code",
   "execution_count": 2,
   "id": "4e5cf753",
   "metadata": {},
   "outputs": [],
   "source": [
    "amm = pd.read_csv('./Multi pollutant models/Amman.csv')\n",
    "irb = pd.read_csv('./Multi pollutant models/Irbid.csv')\n",
    "zar = pd.read_csv('./Multi pollutant models/Zarqa.csv')"
   ]
  },
  {
   "cell_type": "code",
   "execution_count": 5,
   "id": "1a0cc79d",
   "metadata": {},
   "outputs": [],
   "source": [
    "amm.fillna('', inplace=True)\n",
    "irb.fillna('', inplace=True)\n",
    "zar.fillna('', inplace=True)"
   ]
  },
  {
   "cell_type": "code",
   "execution_count": 7,
   "id": "578ebd74",
   "metadata": {},
   "outputs": [
    {
     "data": {
      "application/vnd.microsoft.datawrangler.viewer.v0+json": {
       "columns": [
        {
         "name": "index",
         "rawType": "int64",
         "type": "integer"
        },
        {
         "name": "Pollutant",
         "rawType": "object",
         "type": "string"
        },
        {
         "name": "co-pollutant",
         "rawType": "object",
         "type": "string"
        },
        {
         "name": "beta",
         "rawType": "float64",
         "type": "float"
        },
        {
         "name": "se",
         "rawType": "float64",
         "type": "float"
        },
        {
         "name": "P_val",
         "rawType": "float64",
         "type": "float"
        },
        {
         "name": "RR",
         "rawType": "float64",
         "type": "float"
        },
        {
         "name": "inf",
         "rawType": "float64",
         "type": "float"
        },
        {
         "name": "sup",
         "rawType": "float64",
         "type": "float"
        },
        {
         "name": "IR10",
         "rawType": "float64",
         "type": "float"
        },
        {
         "name": "inf10",
         "rawType": "float64",
         "type": "float"
        },
        {
         "name": "sup10",
         "rawType": "float64",
         "type": "float"
        },
        {
         "name": "significance",
         "rawType": "object",
         "type": "string"
        }
       ],
       "ref": "bee981e8-6adc-4d2b-825a-2f1586e3ca14",
       "rows": [
        [
         "0",
         "Single PM10",
         "",
         "0.000588113",
         "0.000186396",
         "0.001631387",
         "1.005898457",
         "1.002230256",
         "1.009580083",
         "0.589845701",
         "0.223025629",
         "0.958008349",
         "**"
        ],
        [
         "1",
         "",
         "NO2",
         "0.000623581",
         "0.000193836",
         "0.001319051",
         "1.006255297",
         "1.002439595",
         "1.010085523",
         "0.625529684",
         "0.243959497",
         "1.008552286",
         "**"
        ],
        [
         "2",
         "",
         "SO2",
         "0.001186736",
         "0.000328267",
         "0.000309001",
         "1.011938056",
         "1.005448107",
         "1.018469896",
         "1.193805565",
         "0.544810652",
         "1.8469896",
         "***"
        ],
        [
         "3",
         "",
         "NO2+SO2",
         "0.000601465",
         "0.000204816",
         "0.003361912",
         "1.006032775",
         "1.002002268",
         "1.010079494",
         "0.603277469",
         "0.200226788",
         "1.007949402",
         "**"
        ],
        [
         "4",
         "Single NO2",
         "",
         "-0.000161858",
         "0.001237768",
         "0.895975261",
         "0.998382726",
         "0.974453157",
         "1.022899931",
         "-0.161727398",
         "-2.554684259",
         "2.289993114",
         ""
        ],
        [
         "5",
         "",
         "PM10",
         "-0.001351289",
         "0.001285825",
         "0.293445439",
         "0.986578003",
         "0.962024802",
         "1.01175786",
         "-1.342199741",
         "-3.797519816",
         "1.175786044",
         ""
        ],
        [
         "6",
         "",
         "SO2",
         "-0.001605804",
         "0.00162201",
         "0.322307488",
         "0.984070204",
         "0.953277299",
         "1.015857785",
         "-1.592979648",
         "-4.672270088",
         "1.585778488",
         ""
        ],
        [
         "7",
         "",
         "PM10+SO2",
         "-0.001684706",
         "0.001621386",
         "0.298925113",
         "0.983294056",
         "0.952537092",
         "1.015044148",
         "-1.670594364",
         "-4.74629078",
         "1.504414808",
         ""
        ],
        [
         "8",
         "Single SO2",
         "",
         "0.001147306",
         "0.00118979",
         "0.335032892",
         "1.011539124",
         "0.988223077",
         "1.035405289",
         "1.15391244",
         "-1.17769234",
         "3.540528897",
         ""
        ],
        [
         "9",
         "",
         "PM10",
         "-0.000487583",
         "0.001309272",
         "0.709634926",
         "0.995136038",
         "0.969923993",
         "1.02100344",
         "-0.486396234",
         "-3.007600698",
         "2.100344004",
         ""
        ],
        [
         "10",
         "",
         "NO2",
         "0.002146688",
         "0.001556615",
         "0.168048772",
         "1.021698955",
         "0.990997991",
         "1.053351031",
         "2.169895534",
         "-0.900200884",
         "5.335103062",
         ""
        ],
        [
         "11",
         "",
         "PM10+NO2",
         "0.000555927",
         "0.001645258",
         "0.735481974",
         "1.005574756",
         "0.97366518",
         "1.038530092",
         "0.557475579",
         "-2.633481996",
         "3.85300925",
         ""
        ]
       ],
       "shape": {
        "columns": 12,
        "rows": 12
       }
      },
      "text/html": [
       "<div>\n",
       "<style scoped>\n",
       "    .dataframe tbody tr th:only-of-type {\n",
       "        vertical-align: middle;\n",
       "    }\n",
       "\n",
       "    .dataframe tbody tr th {\n",
       "        vertical-align: top;\n",
       "    }\n",
       "\n",
       "    .dataframe thead th {\n",
       "        text-align: right;\n",
       "    }\n",
       "</style>\n",
       "<table border=\"1\" class=\"dataframe\">\n",
       "  <thead>\n",
       "    <tr style=\"text-align: right;\">\n",
       "      <th></th>\n",
       "      <th>Pollutant</th>\n",
       "      <th>co-pollutant</th>\n",
       "      <th>beta</th>\n",
       "      <th>se</th>\n",
       "      <th>P_val</th>\n",
       "      <th>RR</th>\n",
       "      <th>inf</th>\n",
       "      <th>sup</th>\n",
       "      <th>IR10</th>\n",
       "      <th>inf10</th>\n",
       "      <th>sup10</th>\n",
       "      <th>significance</th>\n",
       "    </tr>\n",
       "  </thead>\n",
       "  <tbody>\n",
       "    <tr>\n",
       "      <th>0</th>\n",
       "      <td>Single PM10</td>\n",
       "      <td></td>\n",
       "      <td>0.000588</td>\n",
       "      <td>0.000186</td>\n",
       "      <td>0.001631</td>\n",
       "      <td>1.005898</td>\n",
       "      <td>1.002230</td>\n",
       "      <td>1.009580</td>\n",
       "      <td>0.589846</td>\n",
       "      <td>0.223026</td>\n",
       "      <td>0.958008</td>\n",
       "      <td>**</td>\n",
       "    </tr>\n",
       "    <tr>\n",
       "      <th>1</th>\n",
       "      <td></td>\n",
       "      <td>NO2</td>\n",
       "      <td>0.000624</td>\n",
       "      <td>0.000194</td>\n",
       "      <td>0.001319</td>\n",
       "      <td>1.006255</td>\n",
       "      <td>1.002440</td>\n",
       "      <td>1.010086</td>\n",
       "      <td>0.625530</td>\n",
       "      <td>0.243959</td>\n",
       "      <td>1.008552</td>\n",
       "      <td>**</td>\n",
       "    </tr>\n",
       "    <tr>\n",
       "      <th>2</th>\n",
       "      <td></td>\n",
       "      <td>SO2</td>\n",
       "      <td>0.001187</td>\n",
       "      <td>0.000328</td>\n",
       "      <td>0.000309</td>\n",
       "      <td>1.011938</td>\n",
       "      <td>1.005448</td>\n",
       "      <td>1.018470</td>\n",
       "      <td>1.193806</td>\n",
       "      <td>0.544811</td>\n",
       "      <td>1.846990</td>\n",
       "      <td>***</td>\n",
       "    </tr>\n",
       "    <tr>\n",
       "      <th>3</th>\n",
       "      <td></td>\n",
       "      <td>NO2+SO2</td>\n",
       "      <td>0.000601</td>\n",
       "      <td>0.000205</td>\n",
       "      <td>0.003362</td>\n",
       "      <td>1.006033</td>\n",
       "      <td>1.002002</td>\n",
       "      <td>1.010079</td>\n",
       "      <td>0.603277</td>\n",
       "      <td>0.200227</td>\n",
       "      <td>1.007949</td>\n",
       "      <td>**</td>\n",
       "    </tr>\n",
       "    <tr>\n",
       "      <th>4</th>\n",
       "      <td>Single NO2</td>\n",
       "      <td></td>\n",
       "      <td>-0.000162</td>\n",
       "      <td>0.001238</td>\n",
       "      <td>0.895975</td>\n",
       "      <td>0.998383</td>\n",
       "      <td>0.974453</td>\n",
       "      <td>1.022900</td>\n",
       "      <td>-0.161727</td>\n",
       "      <td>-2.554684</td>\n",
       "      <td>2.289993</td>\n",
       "      <td></td>\n",
       "    </tr>\n",
       "    <tr>\n",
       "      <th>5</th>\n",
       "      <td></td>\n",
       "      <td>PM10</td>\n",
       "      <td>-0.001351</td>\n",
       "      <td>0.001286</td>\n",
       "      <td>0.293445</td>\n",
       "      <td>0.986578</td>\n",
       "      <td>0.962025</td>\n",
       "      <td>1.011758</td>\n",
       "      <td>-1.342200</td>\n",
       "      <td>-3.797520</td>\n",
       "      <td>1.175786</td>\n",
       "      <td></td>\n",
       "    </tr>\n",
       "    <tr>\n",
       "      <th>6</th>\n",
       "      <td></td>\n",
       "      <td>SO2</td>\n",
       "      <td>-0.001606</td>\n",
       "      <td>0.001622</td>\n",
       "      <td>0.322307</td>\n",
       "      <td>0.984070</td>\n",
       "      <td>0.953277</td>\n",
       "      <td>1.015858</td>\n",
       "      <td>-1.592980</td>\n",
       "      <td>-4.672270</td>\n",
       "      <td>1.585778</td>\n",
       "      <td></td>\n",
       "    </tr>\n",
       "    <tr>\n",
       "      <th>7</th>\n",
       "      <td></td>\n",
       "      <td>PM10+SO2</td>\n",
       "      <td>-0.001685</td>\n",
       "      <td>0.001621</td>\n",
       "      <td>0.298925</td>\n",
       "      <td>0.983294</td>\n",
       "      <td>0.952537</td>\n",
       "      <td>1.015044</td>\n",
       "      <td>-1.670594</td>\n",
       "      <td>-4.746291</td>\n",
       "      <td>1.504415</td>\n",
       "      <td></td>\n",
       "    </tr>\n",
       "    <tr>\n",
       "      <th>8</th>\n",
       "      <td>Single SO2</td>\n",
       "      <td></td>\n",
       "      <td>0.001147</td>\n",
       "      <td>0.001190</td>\n",
       "      <td>0.335033</td>\n",
       "      <td>1.011539</td>\n",
       "      <td>0.988223</td>\n",
       "      <td>1.035405</td>\n",
       "      <td>1.153912</td>\n",
       "      <td>-1.177692</td>\n",
       "      <td>3.540529</td>\n",
       "      <td></td>\n",
       "    </tr>\n",
       "    <tr>\n",
       "      <th>9</th>\n",
       "      <td></td>\n",
       "      <td>PM10</td>\n",
       "      <td>-0.000488</td>\n",
       "      <td>0.001309</td>\n",
       "      <td>0.709635</td>\n",
       "      <td>0.995136</td>\n",
       "      <td>0.969924</td>\n",
       "      <td>1.021003</td>\n",
       "      <td>-0.486396</td>\n",
       "      <td>-3.007601</td>\n",
       "      <td>2.100344</td>\n",
       "      <td></td>\n",
       "    </tr>\n",
       "    <tr>\n",
       "      <th>10</th>\n",
       "      <td></td>\n",
       "      <td>NO2</td>\n",
       "      <td>0.002147</td>\n",
       "      <td>0.001557</td>\n",
       "      <td>0.168049</td>\n",
       "      <td>1.021699</td>\n",
       "      <td>0.990998</td>\n",
       "      <td>1.053351</td>\n",
       "      <td>2.169896</td>\n",
       "      <td>-0.900201</td>\n",
       "      <td>5.335103</td>\n",
       "      <td></td>\n",
       "    </tr>\n",
       "    <tr>\n",
       "      <th>11</th>\n",
       "      <td></td>\n",
       "      <td>PM10+NO2</td>\n",
       "      <td>0.000556</td>\n",
       "      <td>0.001645</td>\n",
       "      <td>0.735482</td>\n",
       "      <td>1.005575</td>\n",
       "      <td>0.973665</td>\n",
       "      <td>1.038530</td>\n",
       "      <td>0.557476</td>\n",
       "      <td>-2.633482</td>\n",
       "      <td>3.853009</td>\n",
       "      <td></td>\n",
       "    </tr>\n",
       "  </tbody>\n",
       "</table>\n",
       "</div>"
      ],
      "text/plain": [
       "      Pollutant co-pollutant      beta        se     P_val        RR  \\\n",
       "0   Single PM10               0.000588  0.000186  0.001631  1.005898   \n",
       "1                        NO2  0.000624  0.000194  0.001319  1.006255   \n",
       "2                        SO2  0.001187  0.000328  0.000309  1.011938   \n",
       "3                    NO2+SO2  0.000601  0.000205  0.003362  1.006033   \n",
       "4    Single NO2              -0.000162  0.001238  0.895975  0.998383   \n",
       "5                       PM10 -0.001351  0.001286  0.293445  0.986578   \n",
       "6                        SO2 -0.001606  0.001622  0.322307  0.984070   \n",
       "7                   PM10+SO2 -0.001685  0.001621  0.298925  0.983294   \n",
       "8    Single SO2               0.001147  0.001190  0.335033  1.011539   \n",
       "9                       PM10 -0.000488  0.001309  0.709635  0.995136   \n",
       "10                       NO2  0.002147  0.001557  0.168049  1.021699   \n",
       "11                  PM10+NO2  0.000556  0.001645  0.735482  1.005575   \n",
       "\n",
       "         inf       sup      IR10     inf10     sup10 significance  \n",
       "0   1.002230  1.009580  0.589846  0.223026  0.958008           **  \n",
       "1   1.002440  1.010086  0.625530  0.243959  1.008552           **  \n",
       "2   1.005448  1.018470  1.193806  0.544811  1.846990          ***  \n",
       "3   1.002002  1.010079  0.603277  0.200227  1.007949           **  \n",
       "4   0.974453  1.022900 -0.161727 -2.554684  2.289993               \n",
       "5   0.962025  1.011758 -1.342200 -3.797520  1.175786               \n",
       "6   0.953277  1.015858 -1.592980 -4.672270  1.585778               \n",
       "7   0.952537  1.015044 -1.670594 -4.746291  1.504415               \n",
       "8   0.988223  1.035405  1.153912 -1.177692  3.540529               \n",
       "9   0.969924  1.021003 -0.486396 -3.007601  2.100344               \n",
       "10  0.990998  1.053351  2.169896 -0.900201  5.335103               \n",
       "11  0.973665  1.038530  0.557476 -2.633482  3.853009               "
      ]
     },
     "execution_count": 7,
     "metadata": {},
     "output_type": "execute_result"
    }
   ],
   "source": [
    "amm"
   ]
  },
  {
   "cell_type": "code",
   "execution_count": 6,
   "id": "e2546993",
   "metadata": {},
   "outputs": [
    {
     "data": {
      "application/vnd.microsoft.datawrangler.viewer.v0+json": {
       "columns": [
        {
         "name": "index",
         "rawType": "int64",
         "type": "integer"
        },
        {
         "name": "0",
         "rawType": "object",
         "type": "string"
        }
       ],
       "ref": "a941be01-ae94-40df-bbe9-328edfe96e08",
       "rows": [
        [
         "0",
         "0.59 (0.22-0.96)**"
        ],
        [
         "1",
         "0.63 (0.24-1.01)**"
        ],
        [
         "2",
         "1.19 (0.54-1.85)***"
        ],
        [
         "3",
         "0.6 (0.2-1.01)**"
        ],
        [
         "4",
         "-0.16 (-2.55-2.29)"
        ],
        [
         "5",
         "-1.34 (-3.8-1.18)"
        ],
        [
         "6",
         "-1.59 (-4.67-1.59)"
        ],
        [
         "7",
         "-1.67 (-4.75-1.5)"
        ],
        [
         "8",
         "1.15 (-1.18-3.54)"
        ],
        [
         "9",
         "-0.49 (-3.01-2.1)"
        ],
        [
         "10",
         "2.17 (-0.9-5.34)"
        ],
        [
         "11",
         "0.56 (-2.63-3.85)"
        ]
       ],
       "shape": {
        "columns": 1,
        "rows": 12
       }
      },
      "text/plain": [
       "0      0.59 (0.22-0.96)**\n",
       "1      0.63 (0.24-1.01)**\n",
       "2     1.19 (0.54-1.85)***\n",
       "3        0.6 (0.2-1.01)**\n",
       "4      -0.16 (-2.55-2.29)\n",
       "5       -1.34 (-3.8-1.18)\n",
       "6      -1.59 (-4.67-1.59)\n",
       "7       -1.67 (-4.75-1.5)\n",
       "8       1.15 (-1.18-3.54)\n",
       "9       -0.49 (-3.01-2.1)\n",
       "10       2.17 (-0.9-5.34)\n",
       "11      0.56 (-2.63-3.85)\n",
       "dtype: object"
      ]
     },
     "execution_count": 6,
     "metadata": {},
     "output_type": "execute_result"
    }
   ],
   "source": [
    "amm['IR10'].round(2).astype(str) + ' (' + amm['inf10'].round(2).astype(str) + '-' + amm['sup10'].round(2).astype(str) + ')' + amm['significance'].astype(str)"
   ]
  },
  {
   "cell_type": "code",
   "execution_count": 11,
   "id": "ec42fb9c",
   "metadata": {},
   "outputs": [],
   "source": [
    "table = pd.DataFrame(columns=['Pollutant', 'co-pollutant', 'Amman', 'Irbid', 'Zarqa'])\n",
    "table['Pollutant'] = amm['Pollutant']\n",
    "table['co-pollutant'] = '+' + amm['co-pollutant']\n",
    "table['Amman'] = amm['IR10'].round(2).astype(str) + ' (' + amm['inf10'].round(2).astype(str) + '-' + amm['sup10'].round(2).astype(str) + ')' + amm['significance'].astype(str)\n",
    "table['Irbid'] = irb['IR10'].round(2).astype(str) + ' (' + irb['inf10'].round(2).astype(str) + '-' + irb['sup10'].round(2).astype(str) + ')' + irb['significance'].astype(str)\n",
    "table['Zarqa'] = zar['IR10'].round(2).astype(str) + ' (' + zar['inf10'].round(2).astype(str) + '-' + zar['sup10'].round(2).astype(str) + ')' + zar['significance'].astype(str)"
   ]
  },
  {
   "cell_type": "code",
   "execution_count": 12,
   "id": "c26df77c",
   "metadata": {},
   "outputs": [
    {
     "data": {
      "application/vnd.microsoft.datawrangler.viewer.v0+json": {
       "columns": [
        {
         "name": "index",
         "rawType": "int64",
         "type": "integer"
        },
        {
         "name": "Pollutant",
         "rawType": "object",
         "type": "string"
        },
        {
         "name": "co-pollutant",
         "rawType": "object",
         "type": "string"
        },
        {
         "name": "Amman",
         "rawType": "object",
         "type": "string"
        },
        {
         "name": "Irbid",
         "rawType": "object",
         "type": "string"
        },
        {
         "name": "Zarqa",
         "rawType": "object",
         "type": "string"
        }
       ],
       "ref": "3a922c58-40dd-4898-8b4b-5d770f2a3780",
       "rows": [
        [
         "0",
         "Single PM10",
         "+",
         "0.59 (0.22-0.96)**",
         "0.23 (-1.03-1.51)",
         "-0.12 (-0.9-0.65)"
        ],
        [
         "1",
         "",
         "+NO2",
         "0.63 (0.24-1.01)**",
         "-0.01 (-1.33-1.33)",
         "-0.2 (-1.03-0.62)"
        ],
        [
         "2",
         "",
         "+SO2",
         "1.19 (0.54-1.85)***",
         "1.19 (-0.99-3.42)",
         "-0.43 (-1.75-0.92)"
        ],
        [
         "3",
         "",
         "+NO2+SO2",
         "0.6 (0.2-1.01)**",
         "0.08 (-1.3-1.48)",
         "-0.17 (-1.02-0.69)"
        ],
        [
         "4",
         "Single NO2",
         "+",
         "-0.16 (-2.55-2.29)",
         "3.24 (-1.65-8.37)",
         "3.0 (-2.14-8.42)"
        ],
        [
         "5",
         "",
         "+PM10",
         "-1.34 (-3.8-1.18)",
         "3.31 (-1.87-8.76)",
         "1.91 (-3.73-7.89)"
        ],
        [
         "6",
         "",
         "+SO2",
         "-1.59 (-4.67-1.59)",
         "1.3 (-4.23-7.14)",
         "3.44 (-2.64-9.9)"
        ],
        [
         "7",
         "",
         "+PM10+SO2",
         "-1.67 (-4.75-1.5)",
         "1.26 (-4.46-7.33)",
         "2.43 (-3.93-9.21)"
        ],
        [
         "8",
         "Single SO2",
         "+",
         "1.15 (-1.18-3.54)",
         "-0.26 (-5.83-5.65)",
         "1.26 (-5.01-7.94)"
        ],
        [
         "9",
         "",
         "+PM10",
         "-0.49 (-3.01-2.1)",
         "-0.79 (-6.58-5.36)",
         "-0.02 (-7.0-7.48)"
        ],
        [
         "10",
         "",
         "+NO2",
         "2.17 (-0.9-5.34)",
         "-0.83 (-6.86-5.6)",
         "-0.99 (-8.19-6.77)"
        ],
        [
         "11",
         "",
         "+PM10+NO2",
         "0.56 (-2.63-3.85)",
         "-1.26 (-7.39-5.28)",
         "-1.4 (-9.1-6.95)"
        ]
       ],
       "shape": {
        "columns": 5,
        "rows": 12
       }
      },
      "text/html": [
       "<div>\n",
       "<style scoped>\n",
       "    .dataframe tbody tr th:only-of-type {\n",
       "        vertical-align: middle;\n",
       "    }\n",
       "\n",
       "    .dataframe tbody tr th {\n",
       "        vertical-align: top;\n",
       "    }\n",
       "\n",
       "    .dataframe thead th {\n",
       "        text-align: right;\n",
       "    }\n",
       "</style>\n",
       "<table border=\"1\" class=\"dataframe\">\n",
       "  <thead>\n",
       "    <tr style=\"text-align: right;\">\n",
       "      <th></th>\n",
       "      <th>Pollutant</th>\n",
       "      <th>co-pollutant</th>\n",
       "      <th>Amman</th>\n",
       "      <th>Irbid</th>\n",
       "      <th>Zarqa</th>\n",
       "    </tr>\n",
       "  </thead>\n",
       "  <tbody>\n",
       "    <tr>\n",
       "      <th>0</th>\n",
       "      <td>Single PM10</td>\n",
       "      <td>+</td>\n",
       "      <td>0.59 (0.22-0.96)**</td>\n",
       "      <td>0.23 (-1.03-1.51)</td>\n",
       "      <td>-0.12 (-0.9-0.65)</td>\n",
       "    </tr>\n",
       "    <tr>\n",
       "      <th>1</th>\n",
       "      <td></td>\n",
       "      <td>+NO2</td>\n",
       "      <td>0.63 (0.24-1.01)**</td>\n",
       "      <td>-0.01 (-1.33-1.33)</td>\n",
       "      <td>-0.2 (-1.03-0.62)</td>\n",
       "    </tr>\n",
       "    <tr>\n",
       "      <th>2</th>\n",
       "      <td></td>\n",
       "      <td>+SO2</td>\n",
       "      <td>1.19 (0.54-1.85)***</td>\n",
       "      <td>1.19 (-0.99-3.42)</td>\n",
       "      <td>-0.43 (-1.75-0.92)</td>\n",
       "    </tr>\n",
       "    <tr>\n",
       "      <th>3</th>\n",
       "      <td></td>\n",
       "      <td>+NO2+SO2</td>\n",
       "      <td>0.6 (0.2-1.01)**</td>\n",
       "      <td>0.08 (-1.3-1.48)</td>\n",
       "      <td>-0.17 (-1.02-0.69)</td>\n",
       "    </tr>\n",
       "    <tr>\n",
       "      <th>4</th>\n",
       "      <td>Single NO2</td>\n",
       "      <td>+</td>\n",
       "      <td>-0.16 (-2.55-2.29)</td>\n",
       "      <td>3.24 (-1.65-8.37)</td>\n",
       "      <td>3.0 (-2.14-8.42)</td>\n",
       "    </tr>\n",
       "    <tr>\n",
       "      <th>5</th>\n",
       "      <td></td>\n",
       "      <td>+PM10</td>\n",
       "      <td>-1.34 (-3.8-1.18)</td>\n",
       "      <td>3.31 (-1.87-8.76)</td>\n",
       "      <td>1.91 (-3.73-7.89)</td>\n",
       "    </tr>\n",
       "    <tr>\n",
       "      <th>6</th>\n",
       "      <td></td>\n",
       "      <td>+SO2</td>\n",
       "      <td>-1.59 (-4.67-1.59)</td>\n",
       "      <td>1.3 (-4.23-7.14)</td>\n",
       "      <td>3.44 (-2.64-9.9)</td>\n",
       "    </tr>\n",
       "    <tr>\n",
       "      <th>7</th>\n",
       "      <td></td>\n",
       "      <td>+PM10+SO2</td>\n",
       "      <td>-1.67 (-4.75-1.5)</td>\n",
       "      <td>1.26 (-4.46-7.33)</td>\n",
       "      <td>2.43 (-3.93-9.21)</td>\n",
       "    </tr>\n",
       "    <tr>\n",
       "      <th>8</th>\n",
       "      <td>Single SO2</td>\n",
       "      <td>+</td>\n",
       "      <td>1.15 (-1.18-3.54)</td>\n",
       "      <td>-0.26 (-5.83-5.65)</td>\n",
       "      <td>1.26 (-5.01-7.94)</td>\n",
       "    </tr>\n",
       "    <tr>\n",
       "      <th>9</th>\n",
       "      <td></td>\n",
       "      <td>+PM10</td>\n",
       "      <td>-0.49 (-3.01-2.1)</td>\n",
       "      <td>-0.79 (-6.58-5.36)</td>\n",
       "      <td>-0.02 (-7.0-7.48)</td>\n",
       "    </tr>\n",
       "    <tr>\n",
       "      <th>10</th>\n",
       "      <td></td>\n",
       "      <td>+NO2</td>\n",
       "      <td>2.17 (-0.9-5.34)</td>\n",
       "      <td>-0.83 (-6.86-5.6)</td>\n",
       "      <td>-0.99 (-8.19-6.77)</td>\n",
       "    </tr>\n",
       "    <tr>\n",
       "      <th>11</th>\n",
       "      <td></td>\n",
       "      <td>+PM10+NO2</td>\n",
       "      <td>0.56 (-2.63-3.85)</td>\n",
       "      <td>-1.26 (-7.39-5.28)</td>\n",
       "      <td>-1.4 (-9.1-6.95)</td>\n",
       "    </tr>\n",
       "  </tbody>\n",
       "</table>\n",
       "</div>"
      ],
      "text/plain": [
       "      Pollutant co-pollutant                Amman               Irbid  \\\n",
       "0   Single PM10            +   0.59 (0.22-0.96)**   0.23 (-1.03-1.51)   \n",
       "1                       +NO2   0.63 (0.24-1.01)**  -0.01 (-1.33-1.33)   \n",
       "2                       +SO2  1.19 (0.54-1.85)***   1.19 (-0.99-3.42)   \n",
       "3                   +NO2+SO2     0.6 (0.2-1.01)**    0.08 (-1.3-1.48)   \n",
       "4    Single NO2            +   -0.16 (-2.55-2.29)   3.24 (-1.65-8.37)   \n",
       "5                      +PM10    -1.34 (-3.8-1.18)   3.31 (-1.87-8.76)   \n",
       "6                       +SO2   -1.59 (-4.67-1.59)    1.3 (-4.23-7.14)   \n",
       "7                  +PM10+SO2    -1.67 (-4.75-1.5)   1.26 (-4.46-7.33)   \n",
       "8    Single SO2            +    1.15 (-1.18-3.54)  -0.26 (-5.83-5.65)   \n",
       "9                      +PM10    -0.49 (-3.01-2.1)  -0.79 (-6.58-5.36)   \n",
       "10                      +NO2     2.17 (-0.9-5.34)   -0.83 (-6.86-5.6)   \n",
       "11                 +PM10+NO2    0.56 (-2.63-3.85)  -1.26 (-7.39-5.28)   \n",
       "\n",
       "                 Zarqa  \n",
       "0    -0.12 (-0.9-0.65)  \n",
       "1    -0.2 (-1.03-0.62)  \n",
       "2   -0.43 (-1.75-0.92)  \n",
       "3   -0.17 (-1.02-0.69)  \n",
       "4     3.0 (-2.14-8.42)  \n",
       "5    1.91 (-3.73-7.89)  \n",
       "6     3.44 (-2.64-9.9)  \n",
       "7    2.43 (-3.93-9.21)  \n",
       "8    1.26 (-5.01-7.94)  \n",
       "9    -0.02 (-7.0-7.48)  \n",
       "10  -0.99 (-8.19-6.77)  \n",
       "11    -1.4 (-9.1-6.95)  "
      ]
     },
     "execution_count": 12,
     "metadata": {},
     "output_type": "execute_result"
    }
   ],
   "source": [
    "table"
   ]
  }
 ],
 "metadata": {
  "kernelspec": {
   "display_name": "tf-gpu",
   "language": "python",
   "name": "python3"
  },
  "language_info": {
   "codemirror_mode": {
    "name": "ipython",
    "version": 3
   },
   "file_extension": ".py",
   "mimetype": "text/x-python",
   "name": "python",
   "nbconvert_exporter": "python",
   "pygments_lexer": "ipython3",
   "version": "3.8.19"
  }
 },
 "nbformat": 4,
 "nbformat_minor": 5
}
