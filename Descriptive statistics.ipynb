{
 "cells": [
  {
   "cell_type": "code",
   "execution_count": 1,
   "id": "0c067dc4",
   "metadata": {},
   "outputs": [],
   "source": [
    "import pandas as pd\n",
    "import numpy as np"
   ]
  },
  {
   "cell_type": "code",
   "execution_count": 3,
   "id": "579ae701",
   "metadata": {},
   "outputs": [],
   "source": [
    "amm = pd.read_excel('Amman.xlsx')\n",
    "irb = pd.read_excel('Irbid.xlsx')\n",
    "zar = pd.read_excel('Zarqa.xlsx')"
   ]
  },
  {
   "cell_type": "code",
   "execution_count": 11,
   "id": "dee3a61a",
   "metadata": {},
   "outputs": [],
   "source": [
    "amm['Young'] = amm['Total >30'] - amm['>65']"
   ]
  },
  {
   "cell_type": "code",
   "execution_count": 13,
   "id": "ec794a73",
   "metadata": {},
   "outputs": [
    {
     "data": {
      "text/plain": [
       "Index(['Date', 'Total >30', 'Total_Male >30', 'Total_Female >30', '>65',\n",
       "       '>65_Male', '>65_Female', 'Premature', 'Premature_Male',\n",
       "       'Premature_Female', 'YLL', 'YLL_Male', 'YLL_Female', 'Total',\n",
       "       'Total_Male', 'Total_Female', 'Holiday', 'PM10', 'NO2', 'SO2', 't2m',\n",
       "       'sp', 'd2m', 'RH', 'Holiday.1', 'Young'],\n",
       "      dtype='object')"
      ]
     },
     "execution_count": 13,
     "metadata": {},
     "output_type": "execute_result"
    }
   ],
   "source": [
    "amm.columns"
   ]
  },
  {
   "cell_type": "code",
   "execution_count": 14,
   "id": "1ede0f84",
   "metadata": {},
   "outputs": [],
   "source": [
    "cols = ['Total >30', 'Total_Male >30', 'Total_Female >30', '>65', 'Young']"
   ]
  },
  {
   "cell_type": "code",
   "execution_count": 19,
   "id": "f9a93aad",
   "metadata": {},
   "outputs": [],
   "source": [
    "des = amm[cols].describe().round(2).T"
   ]
  },
  {
   "cell_type": "code",
   "execution_count": 22,
   "id": "bad0ad2d",
   "metadata": {},
   "outputs": [
    {
     "data": {
      "application/vnd.microsoft.datawrangler.viewer.v0+json": {
       "columns": [
        {
         "name": "index",
         "rawType": "object",
         "type": "string"
        },
        {
         "name": "mean",
         "rawType": "float64",
         "type": "float"
        }
       ],
       "ref": "8f999d15-397a-4051-b2dc-103759ba188d",
       "rows": [
        [
         "Total >30",
         "15.843373493975903"
        ],
        [
         "Total_Male >30",
         "9.063526834611173"
        ],
        [
         "Total_Female >30",
         "6.779846659364732"
        ],
        [
         ">65",
         "10.67907995618839"
        ],
        [
         "Young",
         "5.164293537787514"
        ]
       ],
       "shape": {
        "columns": 1,
        "rows": 5
       }
      },
      "text/plain": [
       "Total >30           15.843373\n",
       "Total_Male >30       9.063527\n",
       "Total_Female >30     6.779847\n",
       ">65                 10.679080\n",
       "Young                5.164294\n",
       "Name: mean, dtype: float64"
      ]
     },
     "execution_count": 22,
     "metadata": {},
     "output_type": "execute_result"
    }
   ],
   "source": [
    "amm[cols].describe().T['mean']"
   ]
  },
  {
   "cell_type": "code",
   "execution_count": 31,
   "id": "b3ab6c93",
   "metadata": {},
   "outputs": [
    {
     "data": {
      "application/vnd.microsoft.datawrangler.viewer.v0+json": {
       "columns": [
        {
         "name": "index",
         "rawType": "object",
         "type": "string"
        },
        {
         "name": "count",
         "rawType": "float64",
         "type": "float"
        },
        {
         "name": "mean",
         "rawType": "float64",
         "type": "float"
        },
        {
         "name": "std",
         "rawType": "float64",
         "type": "float"
        },
        {
         "name": "min",
         "rawType": "float64",
         "type": "float"
        },
        {
         "name": "25%",
         "rawType": "float64",
         "type": "float"
        },
        {
         "name": "50%",
         "rawType": "float64",
         "type": "float"
        },
        {
         "name": "75%",
         "rawType": "float64",
         "type": "float"
        },
        {
         "name": "max",
         "rawType": "float64",
         "type": "float"
        }
       ],
       "ref": "05a0c4a1-2ec9-42aa-9fa0-7aed8e3b43a3",
       "rows": [
        [
         "Total >30",
         "1826.0",
         "15.84",
         "4.61",
         "4.0",
         "13.0",
         "15.0",
         "19.0",
         "34.0"
        ],
        [
         "Total_Male >30",
         "1826.0",
         "9.06",
         "3.28",
         "1.0",
         "7.0",
         "9.0",
         "11.0",
         "21.0"
        ],
        [
         "Total_Female >30",
         "1826.0",
         "6.78",
         "2.76",
         "0.0",
         "5.0",
         "7.0",
         "8.0",
         "18.0"
        ],
        [
         ">65",
         "1826.0",
         "10.68",
         "3.65",
         "1.0",
         "8.0",
         "10.0",
         "13.0",
         "26.0"
        ],
        [
         "Young",
         "1826.0",
         "5.16",
         "2.4",
         "0.0",
         "3.0",
         "5.0",
         "7.0",
         "15.0"
        ]
       ],
       "shape": {
        "columns": 8,
        "rows": 5
       }
      },
      "text/html": [
       "<div>\n",
       "<style scoped>\n",
       "    .dataframe tbody tr th:only-of-type {\n",
       "        vertical-align: middle;\n",
       "    }\n",
       "\n",
       "    .dataframe tbody tr th {\n",
       "        vertical-align: top;\n",
       "    }\n",
       "\n",
       "    .dataframe thead th {\n",
       "        text-align: right;\n",
       "    }\n",
       "</style>\n",
       "<table border=\"1\" class=\"dataframe\">\n",
       "  <thead>\n",
       "    <tr style=\"text-align: right;\">\n",
       "      <th></th>\n",
       "      <th>count</th>\n",
       "      <th>mean</th>\n",
       "      <th>std</th>\n",
       "      <th>min</th>\n",
       "      <th>25%</th>\n",
       "      <th>50%</th>\n",
       "      <th>75%</th>\n",
       "      <th>max</th>\n",
       "    </tr>\n",
       "  </thead>\n",
       "  <tbody>\n",
       "    <tr>\n",
       "      <th>Total &gt;30</th>\n",
       "      <td>1826.0</td>\n",
       "      <td>15.84</td>\n",
       "      <td>4.61</td>\n",
       "      <td>4.0</td>\n",
       "      <td>13.0</td>\n",
       "      <td>15.0</td>\n",
       "      <td>19.0</td>\n",
       "      <td>34.0</td>\n",
       "    </tr>\n",
       "    <tr>\n",
       "      <th>Total_Male &gt;30</th>\n",
       "      <td>1826.0</td>\n",
       "      <td>9.06</td>\n",
       "      <td>3.28</td>\n",
       "      <td>1.0</td>\n",
       "      <td>7.0</td>\n",
       "      <td>9.0</td>\n",
       "      <td>11.0</td>\n",
       "      <td>21.0</td>\n",
       "    </tr>\n",
       "    <tr>\n",
       "      <th>Total_Female &gt;30</th>\n",
       "      <td>1826.0</td>\n",
       "      <td>6.78</td>\n",
       "      <td>2.76</td>\n",
       "      <td>0.0</td>\n",
       "      <td>5.0</td>\n",
       "      <td>7.0</td>\n",
       "      <td>8.0</td>\n",
       "      <td>18.0</td>\n",
       "    </tr>\n",
       "    <tr>\n",
       "      <th>&gt;65</th>\n",
       "      <td>1826.0</td>\n",
       "      <td>10.68</td>\n",
       "      <td>3.65</td>\n",
       "      <td>1.0</td>\n",
       "      <td>8.0</td>\n",
       "      <td>10.0</td>\n",
       "      <td>13.0</td>\n",
       "      <td>26.0</td>\n",
       "    </tr>\n",
       "    <tr>\n",
       "      <th>Young</th>\n",
       "      <td>1826.0</td>\n",
       "      <td>5.16</td>\n",
       "      <td>2.40</td>\n",
       "      <td>0.0</td>\n",
       "      <td>3.0</td>\n",
       "      <td>5.0</td>\n",
       "      <td>7.0</td>\n",
       "      <td>15.0</td>\n",
       "    </tr>\n",
       "  </tbody>\n",
       "</table>\n",
       "</div>"
      ],
      "text/plain": [
       "                   count   mean   std  min   25%   50%   75%   max\n",
       "Total >30         1826.0  15.84  4.61  4.0  13.0  15.0  19.0  34.0\n",
       "Total_Male >30    1826.0   9.06  3.28  1.0   7.0   9.0  11.0  21.0\n",
       "Total_Female >30  1826.0   6.78  2.76  0.0   5.0   7.0   8.0  18.0\n",
       ">65               1826.0  10.68  3.65  1.0   8.0  10.0  13.0  26.0\n",
       "Young             1826.0   5.16  2.40  0.0   3.0   5.0   7.0  15.0"
      ]
     },
     "execution_count": 31,
     "metadata": {},
     "output_type": "execute_result"
    }
   ],
   "source": [
    "des"
   ]
  },
  {
   "cell_type": "code",
   "execution_count": 40,
   "id": "7e7ebbc4",
   "metadata": {},
   "outputs": [
    {
     "data": {
      "text/plain": [
       "array(['15.0 (13.0-19.0)', '9.0 (7.0-11.0)', '7.0 (5.0-8.0)',\n",
       "       '10.0 (8.0-13.0)', '5.0 (3.0-7.0)'], dtype=object)"
      ]
     },
     "execution_count": 40,
     "metadata": {},
     "output_type": "execute_result"
    }
   ],
   "source": [
    "(des['50%'].astype(str) + ' (' + des['25%'].astype(str) + '-' + des['75%'].astype(str) + ')').values"
   ]
  },
  {
   "cell_type": "code",
   "execution_count": 46,
   "id": "11b60387",
   "metadata": {},
   "outputs": [
    {
     "data": {
      "text/plain": [
       "Index(['Date', 'Total >30', 'Total_Male >30', 'Total_Female >30', '>65',\n",
       "       '>65_Male', '>65_Female', 'Premature', 'Premature_Male',\n",
       "       'Premature_Female', 'YLL', 'YLL_Male', 'YLL_Female', 'Total',\n",
       "       'Total_Male', 'Total_Female', 'Holiday', 'PM10', 'NO2', 'SO2', 't2m',\n",
       "       'sp', 'd2m', 'RH', 'Holiday.1', 'Young'],\n",
       "      dtype='object')"
      ]
     },
     "execution_count": 46,
     "metadata": {},
     "output_type": "execute_result"
    }
   ],
   "source": [
    "amm.columns"
   ]
  },
  {
   "cell_type": "code",
   "execution_count": 55,
   "id": "2074f3fd",
   "metadata": {},
   "outputs": [
    {
     "data": {
      "application/vnd.microsoft.datawrangler.viewer.v0+json": {
       "columns": [
        {
         "name": "index",
         "rawType": "object",
         "type": "string"
        },
        {
         "name": "Mean(SD)",
         "rawType": "object",
         "type": "string"
        },
        {
         "name": "Min",
         "rawType": "object",
         "type": "string"
        },
        {
         "name": "Median (25-75%)",
         "rawType": "object",
         "type": "string"
        },
        {
         "name": "Max",
         "rawType": "object",
         "type": "string"
        },
        {
         "name": "Total",
         "rawType": "object",
         "type": "string"
        }
       ],
       "ref": "85b54d79-10bc-4423-80eb-6113d8bddadc",
       "rows": [
        [
         "Total",
         "15.84 (4.61)",
         "4",
         "15 (13-19)",
         "34",
         "28924"
        ],
        [
         "Male",
         "9.06 (3.28)",
         "1",
         "9 (7-11)",
         "21",
         "16544"
        ],
        [
         "Female",
         "6.78 (2.76)",
         "0",
         "7 (5-8)",
         "18",
         "12380"
        ],
        [
         "≥65",
         "10.68 (3.65)",
         "1",
         "10 (8-13)",
         "26",
         "19502"
        ],
        [
         "<65",
         "5.16 (2.4)",
         "0",
         "5 (3-7)",
         "15",
         "9422"
        ],
        [
         "PM10",
         "68.87 (68.87)",
         "12.21",
         "56.28 (42.02-82.45)",
         "416.04",
         "-"
        ],
        [
         "NO2",
         "22.66 (22.66)",
         "6.74",
         "21.78 (17.99-26.47)",
         "68.44",
         "-"
        ],
        [
         "SO2",
         "8.66 (8.66)",
         "0.64",
         "6.82 (4.7-10.58)",
         "92.72",
         "-"
        ],
        [
         "Temperature",
         "18.7 (18.7)",
         "1.64",
         "19.6 (11.94-25.31)",
         "34.2",
         "-"
        ]
       ],
       "shape": {
        "columns": 5,
        "rows": 9
       }
      },
      "text/html": [
       "<div>\n",
       "<style scoped>\n",
       "    .dataframe tbody tr th:only-of-type {\n",
       "        vertical-align: middle;\n",
       "    }\n",
       "\n",
       "    .dataframe tbody tr th {\n",
       "        vertical-align: top;\n",
       "    }\n",
       "\n",
       "    .dataframe thead th {\n",
       "        text-align: right;\n",
       "    }\n",
       "</style>\n",
       "<table border=\"1\" class=\"dataframe\">\n",
       "  <thead>\n",
       "    <tr style=\"text-align: right;\">\n",
       "      <th></th>\n",
       "      <th>Mean(SD)</th>\n",
       "      <th>Min</th>\n",
       "      <th>Median (25-75%)</th>\n",
       "      <th>Max</th>\n",
       "      <th>Total</th>\n",
       "    </tr>\n",
       "  </thead>\n",
       "  <tbody>\n",
       "    <tr>\n",
       "      <th>Total</th>\n",
       "      <td>15.84 (4.61)</td>\n",
       "      <td>4</td>\n",
       "      <td>15 (13-19)</td>\n",
       "      <td>34</td>\n",
       "      <td>28924</td>\n",
       "    </tr>\n",
       "    <tr>\n",
       "      <th>Male</th>\n",
       "      <td>9.06 (3.28)</td>\n",
       "      <td>1</td>\n",
       "      <td>9 (7-11)</td>\n",
       "      <td>21</td>\n",
       "      <td>16544</td>\n",
       "    </tr>\n",
       "    <tr>\n",
       "      <th>Female</th>\n",
       "      <td>6.78 (2.76)</td>\n",
       "      <td>0</td>\n",
       "      <td>7 (5-8)</td>\n",
       "      <td>18</td>\n",
       "      <td>12380</td>\n",
       "    </tr>\n",
       "    <tr>\n",
       "      <th>≥65</th>\n",
       "      <td>10.68 (3.65)</td>\n",
       "      <td>1</td>\n",
       "      <td>10 (8-13)</td>\n",
       "      <td>26</td>\n",
       "      <td>19502</td>\n",
       "    </tr>\n",
       "    <tr>\n",
       "      <th>&lt;65</th>\n",
       "      <td>5.16 (2.4)</td>\n",
       "      <td>0</td>\n",
       "      <td>5 (3-7)</td>\n",
       "      <td>15</td>\n",
       "      <td>9422</td>\n",
       "    </tr>\n",
       "    <tr>\n",
       "      <th>PM10</th>\n",
       "      <td>68.87 (68.87)</td>\n",
       "      <td>12.21</td>\n",
       "      <td>56.28 (42.02-82.45)</td>\n",
       "      <td>416.04</td>\n",
       "      <td>-</td>\n",
       "    </tr>\n",
       "    <tr>\n",
       "      <th>NO2</th>\n",
       "      <td>22.66 (22.66)</td>\n",
       "      <td>6.74</td>\n",
       "      <td>21.78 (17.99-26.47)</td>\n",
       "      <td>68.44</td>\n",
       "      <td>-</td>\n",
       "    </tr>\n",
       "    <tr>\n",
       "      <th>SO2</th>\n",
       "      <td>8.66 (8.66)</td>\n",
       "      <td>0.64</td>\n",
       "      <td>6.82 (4.7-10.58)</td>\n",
       "      <td>92.72</td>\n",
       "      <td>-</td>\n",
       "    </tr>\n",
       "    <tr>\n",
       "      <th>Temperature</th>\n",
       "      <td>18.7 (18.7)</td>\n",
       "      <td>1.64</td>\n",
       "      <td>19.6 (11.94-25.31)</td>\n",
       "      <td>34.2</td>\n",
       "      <td>-</td>\n",
       "    </tr>\n",
       "  </tbody>\n",
       "</table>\n",
       "</div>"
      ],
      "text/plain": [
       "                  Mean(SD)    Min      Median (25-75%)     Max  Total\n",
       "Total         15.84 (4.61)      4           15 (13-19)      34  28924\n",
       "Male           9.06 (3.28)      1             9 (7-11)      21  16544\n",
       "Female         6.78 (2.76)      0              7 (5-8)      18  12380\n",
       "≥65           10.68 (3.65)      1            10 (8-13)      26  19502\n",
       "<65             5.16 (2.4)      0              5 (3-7)      15   9422\n",
       "PM10         68.87 (68.87)  12.21  56.28 (42.02-82.45)  416.04      -\n",
       "NO2          22.66 (22.66)   6.74  21.78 (17.99-26.47)   68.44      -\n",
       "SO2            8.66 (8.66)   0.64     6.82 (4.7-10.58)   92.72      -\n",
       "Temperature    18.7 (18.7)   1.64   19.6 (11.94-25.31)    34.2      -"
      ]
     },
     "execution_count": 55,
     "metadata": {},
     "output_type": "execute_result"
    }
   ],
   "source": [
    "cols = ['Total >30', 'Total_Male >30', 'Total_Female >30', '>65', 'Young']\n",
    "des = amm[cols].describe().round(2).T\n",
    "df1 = pd.DataFrame(index=['Total', 'Male', 'Female', '≥65', '<65'], columns=['Mean(SD)',  'Min', 'Median (25-75%)', 'Max', 'Total'])\n",
    "df1['Mean(SD)'] = (des['mean'].astype(str) + ' (' + des['std'].astype(str) + ')').values\n",
    "df1['Min'] = (des['min'].round(0).astype(int)).values\n",
    "df1['Median (25-75%)'] = (des['50%'].round(0).astype(int).astype(str) + ' (' + des['25%'].round(0).astype(int).astype(str) + '-' + des['75%'].round(0).astype(int).astype(str) + ')').values\n",
    "df1['Max'] = (des['max'].round(0).astype(int)).values\n",
    "df1['Total'] = (des['mean'] * 1826).round(0).astype(int).values\n",
    "df1\n",
    "\n",
    "cols2 = ['PM10', 'NO2', 'SO2', 't2m']\n",
    "des = amm[cols2].describe().round(2).T\n",
    "df2 = pd.DataFrame(index=['PM10', 'NO2', 'SO2', 'Temperature'], columns=['Mean(SD)',  'Min', 'Median (25-75%)', 'Max', 'Total'])\n",
    "df2['Mean(SD)'] = (des['mean'].astype(str) + ' (' + des['mean'].astype(str) + ')').values\n",
    "df2['Min'] = (des['min'].round(2).astype(str)).values\n",
    "df2['Median (25-75%)'] = (des['50%'].round(2).astype(str) + ' (' + des['25%'].round(2).astype(str) + '-' + des['75%'].round(2).astype(str) + ')').values\n",
    "df2['Max'] = (des['max'].round(2).astype(str)).values\n",
    "df2['Total'] = ['-', '-', '-', '-']\n",
    "df2\n",
    "pd.concat([df1, df2])"
   ]
  },
  {
   "cell_type": "code",
   "execution_count": 70,
   "id": "ffe55c39",
   "metadata": {},
   "outputs": [
    {
     "name": "stdout",
     "output_type": "stream",
     "text": [
      "PM10 violations: 177\n",
      "NO2 violations: 0\n",
      "SO2 violations: 0\n"
     ]
    }
   ],
   "source": [
    "print(f\"PM10 violations: {len(amm[amm['PM10']>=120])}\")\n",
    "print(f\"NO2 violations: {len(amm[amm['NO2']>=80])}\")\n",
    "print(f\"SO2 violations: {len(amm[amm['SO2']>=140])}\")"
   ]
  },
  {
   "cell_type": "code",
   "execution_count": 68,
   "id": "b74d289b",
   "metadata": {},
   "outputs": [
    {
     "data": {
      "application/vnd.microsoft.datawrangler.viewer.v0+json": {
       "columns": [
        {
         "name": "index",
         "rawType": "object",
         "type": "string"
        },
        {
         "name": "Mean(SD)",
         "rawType": "object",
         "type": "string"
        },
        {
         "name": "Min",
         "rawType": "object",
         "type": "string"
        },
        {
         "name": "Median (25-75%)",
         "rawType": "object",
         "type": "string"
        },
        {
         "name": "Max",
         "rawType": "object",
         "type": "string"
        },
        {
         "name": "Total",
         "rawType": "object",
         "type": "string"
        }
       ],
       "ref": "b6e28ed8-e26c-4775-8a03-a0957525bb5f",
       "rows": [
        [
         "Total",
         "4.06 (2.11)",
         "0",
         "4 (3-5)",
         "15",
         "7414"
        ],
        [
         "Male",
         "2.25 (1.54)",
         "0",
         "2 (1-3)",
         "11",
         "4108"
        ],
        [
         "Female",
         "1.82 (1.35)",
         "0",
         "2 (1-3)",
         "9",
         "3323"
        ],
        [
         "≥65",
         "2.66 (1.73)",
         "0",
         "2 (1-4)",
         "13",
         "4857"
        ],
        [
         "<65",
         "1.4 (1.17)",
         "0",
         "1 (1-2)",
         "7",
         "2556"
        ],
        [
         "PM10",
         "48.97 (24.39)",
         "9.26",
         "41.9 (33.7-57.9)",
         "209.0",
         "-"
        ],
        [
         "NO2",
         "18.32 (7.11)",
         "1.61",
         "17.68 (13.2-23.1)",
         "47.05",
         "-"
        ],
        [
         "SO2",
         "8.94 (8.0)",
         "0.06",
         "5.85 (3.53-12.7)",
         "54.5",
         "-"
        ],
        [
         "Temperature",
         "19.41 (6.81)",
         "3.12",
         "20.23 (13.11-25.76)",
         "34.01",
         "-"
        ]
       ],
       "shape": {
        "columns": 5,
        "rows": 9
       }
      },
      "text/html": [
       "<div>\n",
       "<style scoped>\n",
       "    .dataframe tbody tr th:only-of-type {\n",
       "        vertical-align: middle;\n",
       "    }\n",
       "\n",
       "    .dataframe tbody tr th {\n",
       "        vertical-align: top;\n",
       "    }\n",
       "\n",
       "    .dataframe thead th {\n",
       "        text-align: right;\n",
       "    }\n",
       "</style>\n",
       "<table border=\"1\" class=\"dataframe\">\n",
       "  <thead>\n",
       "    <tr style=\"text-align: right;\">\n",
       "      <th></th>\n",
       "      <th>Mean(SD)</th>\n",
       "      <th>Min</th>\n",
       "      <th>Median (25-75%)</th>\n",
       "      <th>Max</th>\n",
       "      <th>Total</th>\n",
       "    </tr>\n",
       "  </thead>\n",
       "  <tbody>\n",
       "    <tr>\n",
       "      <th>Total</th>\n",
       "      <td>4.06 (2.11)</td>\n",
       "      <td>0</td>\n",
       "      <td>4 (3-5)</td>\n",
       "      <td>15</td>\n",
       "      <td>7414</td>\n",
       "    </tr>\n",
       "    <tr>\n",
       "      <th>Male</th>\n",
       "      <td>2.25 (1.54)</td>\n",
       "      <td>0</td>\n",
       "      <td>2 (1-3)</td>\n",
       "      <td>11</td>\n",
       "      <td>4108</td>\n",
       "    </tr>\n",
       "    <tr>\n",
       "      <th>Female</th>\n",
       "      <td>1.82 (1.35)</td>\n",
       "      <td>0</td>\n",
       "      <td>2 (1-3)</td>\n",
       "      <td>9</td>\n",
       "      <td>3323</td>\n",
       "    </tr>\n",
       "    <tr>\n",
       "      <th>≥65</th>\n",
       "      <td>2.66 (1.73)</td>\n",
       "      <td>0</td>\n",
       "      <td>2 (1-4)</td>\n",
       "      <td>13</td>\n",
       "      <td>4857</td>\n",
       "    </tr>\n",
       "    <tr>\n",
       "      <th>&lt;65</th>\n",
       "      <td>1.4 (1.17)</td>\n",
       "      <td>0</td>\n",
       "      <td>1 (1-2)</td>\n",
       "      <td>7</td>\n",
       "      <td>2556</td>\n",
       "    </tr>\n",
       "    <tr>\n",
       "      <th>PM10</th>\n",
       "      <td>48.97 (24.39)</td>\n",
       "      <td>9.26</td>\n",
       "      <td>41.9 (33.7-57.9)</td>\n",
       "      <td>209.0</td>\n",
       "      <td>-</td>\n",
       "    </tr>\n",
       "    <tr>\n",
       "      <th>NO2</th>\n",
       "      <td>18.32 (7.11)</td>\n",
       "      <td>1.61</td>\n",
       "      <td>17.68 (13.2-23.1)</td>\n",
       "      <td>47.05</td>\n",
       "      <td>-</td>\n",
       "    </tr>\n",
       "    <tr>\n",
       "      <th>SO2</th>\n",
       "      <td>8.94 (8.0)</td>\n",
       "      <td>0.06</td>\n",
       "      <td>5.85 (3.53-12.7)</td>\n",
       "      <td>54.5</td>\n",
       "      <td>-</td>\n",
       "    </tr>\n",
       "    <tr>\n",
       "      <th>Temperature</th>\n",
       "      <td>19.41 (6.81)</td>\n",
       "      <td>3.12</td>\n",
       "      <td>20.23 (13.11-25.76)</td>\n",
       "      <td>34.01</td>\n",
       "      <td>-</td>\n",
       "    </tr>\n",
       "  </tbody>\n",
       "</table>\n",
       "</div>"
      ],
      "text/plain": [
       "                  Mean(SD)   Min      Median (25-75%)    Max Total\n",
       "Total          4.06 (2.11)     0              4 (3-5)     15  7414\n",
       "Male           2.25 (1.54)     0              2 (1-3)     11  4108\n",
       "Female         1.82 (1.35)     0              2 (1-3)      9  3323\n",
       "≥65            2.66 (1.73)     0              2 (1-4)     13  4857\n",
       "<65             1.4 (1.17)     0              1 (1-2)      7  2556\n",
       "PM10         48.97 (24.39)  9.26     41.9 (33.7-57.9)  209.0     -\n",
       "NO2           18.32 (7.11)  1.61    17.68 (13.2-23.1)  47.05     -\n",
       "SO2             8.94 (8.0)  0.06     5.85 (3.53-12.7)   54.5     -\n",
       "Temperature   19.41 (6.81)  3.12  20.23 (13.11-25.76)  34.01     -"
      ]
     },
     "execution_count": 68,
     "metadata": {},
     "output_type": "execute_result"
    }
   ],
   "source": [
    "irb['Young'] = irb['Total >30'] - irb['>65']\n",
    "cols = ['Total >30', 'Total_Male >30', 'Total_Female >30', '>65', 'Young']\n",
    "des = irb[cols].describe().round(2).T\n",
    "df1 = pd.DataFrame(index=['Total', 'Male', 'Female', '≥65', '<65'], columns=['Mean(SD)',  'Min', 'Median (25-75%)', 'Max', 'Total'])\n",
    "df1['Mean(SD)'] = (des['mean'].astype(str) + ' (' + des['std'].astype(str) + ')').values\n",
    "df1['Min'] = (des['min'].round(0).astype(int)).values\n",
    "df1['Median (25-75%)'] = (des['50%'].round(0).astype(int).astype(str) + ' (' + des['25%'].round(0).astype(int).astype(str) + '-' + des['75%'].round(0).astype(int).astype(str) + ')').values\n",
    "df1['Max'] = (des['max'].round(0).astype(int)).values\n",
    "df1['Total'] = (des['mean'] * 1826).round(0).astype(int).values\n",
    "\n",
    "cols2 = ['PM10', 'NO2', 'SO2', 't2m']\n",
    "des = irb[cols2].describe().round(2).T\n",
    "df2 = pd.DataFrame(index=['PM10', 'NO2', 'SO2', 'Temperature'], columns=['Mean(SD)',  'Min', 'Median (25-75%)', 'Max', 'Total'])\n",
    "df2['Mean(SD)'] = (des['mean'].astype(str) + ' (' + des['std'].astype(str) + ')').values\n",
    "df2['Min'] = (des['min'].round(2).astype(str)).values\n",
    "df2['Median (25-75%)'] = (des['50%'].round(2).astype(str) + ' (' + des['25%'].round(2).astype(str) + '-' + des['75%'].round(2).astype(str) + ')').values\n",
    "df2['Max'] = (des['max'].round(2).astype(str)).values\n",
    "df2['Total'] = ['-', '-', '-', '-']\n",
    "df2\n",
    "pd.concat([df1, df2])"
   ]
  },
  {
   "cell_type": "code",
   "execution_count": 71,
   "id": "d3e40f2a",
   "metadata": {},
   "outputs": [
    {
     "name": "stdout",
     "output_type": "stream",
     "text": [
      "PM10 violations: 37\n",
      "NO2 violations: 0\n",
      "SO2 violations: 0\n"
     ]
    }
   ],
   "source": [
    "print(f\"PM10 violations: {len(irb[irb['PM10']>=120])}\")\n",
    "print(f\"NO2 violations: {len(irb[irb['NO2']>=80])}\")\n",
    "print(f\"SO2 violations: {len(irb[irb['SO2']>=140])}\")"
   ]
  },
  {
   "cell_type": "code",
   "execution_count": 67,
   "id": "1d133a50",
   "metadata": {},
   "outputs": [
    {
     "data": {
      "application/vnd.microsoft.datawrangler.viewer.v0+json": {
       "columns": [
        {
         "name": "index",
         "rawType": "object",
         "type": "string"
        },
        {
         "name": "Mean(SD)",
         "rawType": "object",
         "type": "string"
        },
        {
         "name": "Min",
         "rawType": "object",
         "type": "string"
        },
        {
         "name": "Median (25-75%)",
         "rawType": "object",
         "type": "string"
        },
        {
         "name": "Max",
         "rawType": "object",
         "type": "string"
        },
        {
         "name": "Total",
         "rawType": "object",
         "type": "string"
        }
       ],
       "ref": "6c163760-1aaf-4a5b-8634-f431016c2969",
       "rows": [
        [
         "Total",
         "5.33 (2.4)",
         "0",
         "5 (4-7)",
         "16",
         "9733"
        ],
        [
         "Male",
         "3.01 (1.8)",
         "0",
         "3 (2-4)",
         "11",
         "5496"
        ],
        [
         "Female",
         "2.32 (1.54)",
         "0",
         "2 (1-3)",
         "9",
         "4236"
        ],
        [
         "≥65",
         "3.35 (1.9)",
         "0",
         "3 (2-4)",
         "11",
         "6117"
        ],
        [
         "<65",
         "1.98 (1.42)",
         "0",
         "2 (1-3)",
         "8",
         "3615"
        ],
        [
         "PM10",
         "78.74 (36.93)",
         "10.11",
         "72.55 (51.5-97.85)",
         "348.71",
         "-"
        ],
        [
         "NO2",
         "18.51 (7.16)",
         "2.15",
         "16.75 (13.4-21.8)",
         "48.1",
         "-"
        ],
        [
         "SO2",
         "8.18 (6.65)",
         "0.21",
         "6.32 (3.61-9.91)",
         "37.85",
         "-"
        ],
        [
         "Temperature",
         "20.21 (8.05)",
         "1.49",
         "21.06 (12.72-27.31)",
         "36.77",
         "-"
        ]
       ],
       "shape": {
        "columns": 5,
        "rows": 9
       }
      },
      "text/html": [
       "<div>\n",
       "<style scoped>\n",
       "    .dataframe tbody tr th:only-of-type {\n",
       "        vertical-align: middle;\n",
       "    }\n",
       "\n",
       "    .dataframe tbody tr th {\n",
       "        vertical-align: top;\n",
       "    }\n",
       "\n",
       "    .dataframe thead th {\n",
       "        text-align: right;\n",
       "    }\n",
       "</style>\n",
       "<table border=\"1\" class=\"dataframe\">\n",
       "  <thead>\n",
       "    <tr style=\"text-align: right;\">\n",
       "      <th></th>\n",
       "      <th>Mean(SD)</th>\n",
       "      <th>Min</th>\n",
       "      <th>Median (25-75%)</th>\n",
       "      <th>Max</th>\n",
       "      <th>Total</th>\n",
       "    </tr>\n",
       "  </thead>\n",
       "  <tbody>\n",
       "    <tr>\n",
       "      <th>Total</th>\n",
       "      <td>5.33 (2.4)</td>\n",
       "      <td>0</td>\n",
       "      <td>5 (4-7)</td>\n",
       "      <td>16</td>\n",
       "      <td>9733</td>\n",
       "    </tr>\n",
       "    <tr>\n",
       "      <th>Male</th>\n",
       "      <td>3.01 (1.8)</td>\n",
       "      <td>0</td>\n",
       "      <td>3 (2-4)</td>\n",
       "      <td>11</td>\n",
       "      <td>5496</td>\n",
       "    </tr>\n",
       "    <tr>\n",
       "      <th>Female</th>\n",
       "      <td>2.32 (1.54)</td>\n",
       "      <td>0</td>\n",
       "      <td>2 (1-3)</td>\n",
       "      <td>9</td>\n",
       "      <td>4236</td>\n",
       "    </tr>\n",
       "    <tr>\n",
       "      <th>≥65</th>\n",
       "      <td>3.35 (1.9)</td>\n",
       "      <td>0</td>\n",
       "      <td>3 (2-4)</td>\n",
       "      <td>11</td>\n",
       "      <td>6117</td>\n",
       "    </tr>\n",
       "    <tr>\n",
       "      <th>&lt;65</th>\n",
       "      <td>1.98 (1.42)</td>\n",
       "      <td>0</td>\n",
       "      <td>2 (1-3)</td>\n",
       "      <td>8</td>\n",
       "      <td>3615</td>\n",
       "    </tr>\n",
       "    <tr>\n",
       "      <th>PM10</th>\n",
       "      <td>78.74 (36.93)</td>\n",
       "      <td>10.11</td>\n",
       "      <td>72.55 (51.5-97.85)</td>\n",
       "      <td>348.71</td>\n",
       "      <td>-</td>\n",
       "    </tr>\n",
       "    <tr>\n",
       "      <th>NO2</th>\n",
       "      <td>18.51 (7.16)</td>\n",
       "      <td>2.15</td>\n",
       "      <td>16.75 (13.4-21.8)</td>\n",
       "      <td>48.1</td>\n",
       "      <td>-</td>\n",
       "    </tr>\n",
       "    <tr>\n",
       "      <th>SO2</th>\n",
       "      <td>8.18 (6.65)</td>\n",
       "      <td>0.21</td>\n",
       "      <td>6.32 (3.61-9.91)</td>\n",
       "      <td>37.85</td>\n",
       "      <td>-</td>\n",
       "    </tr>\n",
       "    <tr>\n",
       "      <th>Temperature</th>\n",
       "      <td>20.21 (8.05)</td>\n",
       "      <td>1.49</td>\n",
       "      <td>21.06 (12.72-27.31)</td>\n",
       "      <td>36.77</td>\n",
       "      <td>-</td>\n",
       "    </tr>\n",
       "  </tbody>\n",
       "</table>\n",
       "</div>"
      ],
      "text/plain": [
       "                  Mean(SD)    Min      Median (25-75%)     Max Total\n",
       "Total           5.33 (2.4)      0              5 (4-7)      16  9733\n",
       "Male            3.01 (1.8)      0              3 (2-4)      11  5496\n",
       "Female         2.32 (1.54)      0              2 (1-3)       9  4236\n",
       "≥65             3.35 (1.9)      0              3 (2-4)      11  6117\n",
       "<65            1.98 (1.42)      0              2 (1-3)       8  3615\n",
       "PM10         78.74 (36.93)  10.11   72.55 (51.5-97.85)  348.71     -\n",
       "NO2           18.51 (7.16)   2.15    16.75 (13.4-21.8)    48.1     -\n",
       "SO2            8.18 (6.65)   0.21     6.32 (3.61-9.91)   37.85     -\n",
       "Temperature   20.21 (8.05)   1.49  21.06 (12.72-27.31)   36.77     -"
      ]
     },
     "execution_count": 67,
     "metadata": {},
     "output_type": "execute_result"
    }
   ],
   "source": [
    "zar['Young'] = zar['Total >30'] - zar['>65']\n",
    "cols = ['Total >30', 'Total_Male >30', 'Total_Female >30', '>65', 'Young']\n",
    "des = zar[cols].describe().round(2).T\n",
    "df1 = pd.DataFrame(index=['Total', 'Male', 'Female', '≥65', '<65'], columns=['Mean(SD)',  'Min', 'Median (25-75%)', 'Max', 'Total'])\n",
    "df1['Mean(SD)'] = (des['mean'].astype(str) + ' (' + des['std'].astype(str) + ')').values\n",
    "df1['Min'] = (des['min'].round(0).astype(int)).values\n",
    "df1['Median (25-75%)'] = (des['50%'].round(0).astype(int).astype(str) + ' (' + des['25%'].round(0).astype(int).astype(str) + '-' + des['75%'].round(0).astype(int).astype(str) + ')').values\n",
    "df1['Max'] = (des['max'].round(0).astype(int)).values\n",
    "df1['Total'] = (des['mean'] * 1826).round(0).astype(int).values\n",
    "\n",
    "cols2 = ['PM10', 'NO2', 'SO2', 't2m']\n",
    "des = zar[cols2].describe().round(2).T\n",
    "df2 = pd.DataFrame(index=['PM10', 'NO2', 'SO2', 'Temperature'], columns=['Mean(SD)',  'Min', 'Median (25-75%)', 'Max', 'Total'])\n",
    "df2['Mean(SD)'] = (des['mean'].astype(str) + ' (' + des['std'].astype(str) + ')').values\n",
    "df2['Min'] = (des['min'].round(2).astype(str)).values\n",
    "df2['Median (25-75%)'] = (des['50%'].round(2).astype(str) + ' (' + des['25%'].round(2).astype(str) + '-' + des['75%'].round(2).astype(str) + ')').values\n",
    "df2['Max'] = (des['max'].round(2).astype(str)).values\n",
    "df2['Total'] = ['-', '-', '-', '-']\n",
    "df2\n",
    "pd.concat([df1, df2])"
   ]
  },
  {
   "cell_type": "code",
   "execution_count": 72,
   "id": "e0d0a4eb",
   "metadata": {},
   "outputs": [
    {
     "name": "stdout",
     "output_type": "stream",
     "text": [
      "PM10 violations: 219\n",
      "NO2 violations: 0\n",
      "SO2 violations: 0\n"
     ]
    }
   ],
   "source": [
    "print(f\"PM10 violations: {len(zar[zar['PM10']>=120])}\")\n",
    "print(f\"NO2 violations: {len(zar[zar['NO2']>=80])}\")\n",
    "print(f\"SO2 violations: {len(zar[zar['SO2']>=140])}\")"
   ]
  }
 ],
 "metadata": {
  "kernelspec": {
   "display_name": "tf-gpu",
   "language": "python",
   "name": "python3"
  },
  "language_info": {
   "codemirror_mode": {
    "name": "ipython",
    "version": 3
   },
   "file_extension": ".py",
   "mimetype": "text/x-python",
   "name": "python",
   "nbconvert_exporter": "python",
   "pygments_lexer": "ipython3",
   "version": "3.8.19"
  }
 },
 "nbformat": 4,
 "nbformat_minor": 5
}
