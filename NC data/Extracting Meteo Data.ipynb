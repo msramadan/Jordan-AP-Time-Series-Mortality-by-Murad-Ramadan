{
 "cells": [
  {
   "cell_type": "code",
   "execution_count": 1,
   "id": "d994affb",
   "metadata": {},
   "outputs": [
    {
     "name": "stderr",
     "output_type": "stream",
     "text": [
      "c:\\ProgramData\\anaconda3\\envs\\tf-gpu\\lib\\site-packages\\cupy\\_environment.py:216: UserWarning: CUDA path could not be detected. Set CUDA_PATH environment variable if CuPy fails to load.\n",
      "  warnings.warn(\n",
      "c:\\ProgramData\\anaconda3\\envs\\tf-gpu\\lib\\site-packages\\tqdm\\auto.py:21: TqdmWarning: IProgress not found. Please update jupyter and ipywidgets. See https://ipywidgets.readthedocs.io/en/stable/user_install.html\n",
      "  from .autonotebook import tqdm as notebook_tqdm\n"
     ]
    }
   ],
   "source": [
    "import pandas as pd\n",
    "import numpy as np\n",
    "import geopandas as gpd\n",
    "import rioxarray\n",
    "import xarray as xr\n",
    "from shapely.geometry import Polygon, box\n",
    "import netCDF4\n",
    "import os"
   ]
  },
  {
   "cell_type": "code",
   "execution_count": 2,
   "id": "40e2ed8d",
   "metadata": {},
   "outputs": [],
   "source": [
    "amm_pol = gpd.read_file(r\"C:\\Users\\user\\OneDrive\\Desktop\\new ap mort\\Qasaba SHP\\Amman.shp\").set_crs(epsg=4326).to_crs(epsg=4326)\n",
    "irb_pol = gpd.read_file(r\"C:\\Users\\user\\OneDrive\\Desktop\\new ap mort\\Qasaba SHP\\Qasabat Irbid.shp\").to_crs(epsg=4326)\n",
    "zar_pol = gpd.read_file(r\"C:\\Users\\user\\OneDrive\\Desktop\\new ap mort\\Qasaba SHP\\Qasabet Al Zarqa.shp\").to_crs(epsg=4326)"
   ]
  },
  {
   "cell_type": "code",
   "execution_count": 3,
   "id": "e21fd6fc",
   "metadata": {},
   "outputs": [],
   "source": [
    "amm_pol = amm_pol[irb_pol.columns]"
   ]
  },
  {
   "cell_type": "code",
   "execution_count": 4,
   "id": "37dbccb7",
   "metadata": {},
   "outputs": [],
   "source": [
    "folder = r\"C:\\Users\\user\\OneDrive\\Desktop\\new ap mort\\NC data\\NC files/\"\n",
    "files = os.listdir(folder)\n",
    "files = [f for f in files if f.endswith('.grib')]\n",
    "ncs = [\n",
    "    xr.open_dataset(\n",
    "        os.path.join(folder, file), \n",
    "        engine=\"cfgrib\", \n",
    "        backend_kwargs={\"indexpath\": \"\"}\n",
    "    ).coarsen(time=24, boundary='pad').mean()\n",
    "    for file in files\n",
    "]"
   ]
  },
  {
   "cell_type": "code",
   "execution_count": 5,
   "id": "b4cb34aa",
   "metadata": {},
   "outputs": [],
   "source": [
    "for nc in ncs:\n",
    "    nc['time'] = pd.DatetimeIndex(nc.indexes['time'].date)\n",
    "    nc['valid_time'] = pd.DatetimeIndex(nc.indexes['time'].date)"
   ]
  },
  {
   "cell_type": "code",
   "execution_count": 6,
   "id": "e0700eac",
   "metadata": {},
   "outputs": [],
   "source": [
    "def fine_grid_no_interpolation(cdf, regridding_factor, epsilon = 1e-9):\n",
    "\n",
    "    \"\"\"\n",
    "    cdf: NetCDF4 dataset read by xarray.\n",
    "\n",
    "    regridding_factor: the factor that we want to resample our dataset by; it has to be a multiplier of the original dimension,\n",
    "    Eg. using a factor of 5 for 0.25 ERA5 will resample the data into 0.05 degree dataset.\n",
    "\n",
    "    epsilon: a value to avoid floating point error when defining the new dimensions.\n",
    "\n",
    "    This function resamples the dataset into finer dimension without interpolation, using Kroniker Product.\n",
    "\n",
    "    Returns xarray dataset with the new spatial dimensions.\n",
    "    \"\"\"\n",
    "\n",
    "    lons = cdf.variables[[name for name in cdf.coords if 'lon' in name.lower()][0]][:]\n",
    "    lats = cdf.variables[[name for name in cdf.coords if 'lat' in name.lower()][0]][:]\n",
    "    var = cdf.variables[list(cdf.data_vars.keys())[0]][:]\n",
    "    dif_lon = lons[1] - lons[0]\n",
    "    dif_lat = lats[0] - lats[1]\n",
    "\n",
    "    lats_fine = np.float64(np.round(np.arange(lats[0] + (dif_lat/2) - (dif_lat/regridding_factor)/2,\n",
    "                               lats[-1]- (dif_lat/2) + (dif_lat/regridding_factor)/2,\n",
    "                               -dif_lat/regridding_factor+epsilon),4))\n",
    "\n",
    "    lons_fine = np.float64(np.round(np.arange(lons[0] - (dif_lon/2) + (dif_lon/regridding_factor)/2,\n",
    "                               lons[-1]+ (dif_lon/2) - (dif_lon/regridding_factor)/2,\n",
    "                               dif_lon/regridding_factor-epsilon),4))\n",
    "\n",
    "    t = cdf[[name for name in cdf.coords if 'time' in name.lower()][0]]\n",
    "    times = pd.DatetimeIndex(t.to_pandas())\n",
    "\n",
    "    var_kron = np.kron(var, np.ones((regridding_factor,regridding_factor)))\n",
    "\n",
    "    var_name = list(cdf.data_vars.keys())[0]\n",
    "\n",
    "    # Create a DataArray for the variable and then convert to a Dataset\n",
    "    data_array = xr.DataArray(\n",
    "        var_kron,\n",
    "        coords=[times, lats_fine, lons_fine],\n",
    "        dims=[\"time\", \"latitude\", \"longitude\"],\n",
    "        name=var_name\n",
    "    )\n",
    "    data_set = data_array.to_dataset()\n",
    "\n",
    "\n",
    "    return data_set"
   ]
  },
  {
   "cell_type": "code",
   "execution_count": 7,
   "id": "09047f64",
   "metadata": {},
   "outputs": [],
   "source": [
    "def extracting_and_averaging_polygon(poly, nc_file, regridding_factor, epsilon = 1e-9):\n",
    "  poly_4326 = poly.to_crs('epsg:4326')\n",
    "  x = poly_4326.centroid.x.values[0]\n",
    "  y = poly_4326.centroid.y.values[0]\n",
    "  lons = nc_file.variables[[name for name in nc_file.coords if 'lon' in name.lower()][0]][:]\n",
    "  lats = nc_file.variables[[name for name in nc_file.coords if 'lat' in name.lower()][0]][:]\n",
    "  dif_lon = lons[1] - lons[0]\n",
    "  dif_lat = lats[0] - lats[1]\n",
    "\n",
    "  margin_lon = dif_lon/2 * 1.5\n",
    "  margin_lat = dif_lat/2 * 1.5\n",
    "\n",
    "  bounds = poly_4326['geometry'][0].bounds  # Get bounds in EPSG:4326\n",
    "  maxi = max(max(abs(x - (bounds[0] - margin_lon)), abs(x - (bounds[2] + margin_lon))),\n",
    "           max(abs(y - (bounds[1] - margin_lat)), abs(y - (bounds[3] + margin_lat))))\n",
    "\n",
    "  rectangle_polygon_geometry = box(x - maxi - margin_lon,\n",
    "                                 y - maxi - margin_lat,\n",
    "                                 x + maxi + margin_lon,\n",
    "                                 y + maxi + margin_lat)\n",
    "\n",
    "  # Create the GeoDataFrame\n",
    "  polygon = gpd.GeoDataFrame(index=[0], crs='epsg:4326', geometry=[rectangle_polygon_geometry])\n",
    "  nc_file.rio.set_spatial_dims(x_dim=\"longitude\", y_dim=\"latitude\", inplace=True)\n",
    "  nc_file.rio.write_crs(\"epsg:4326\", inplace=True)\n",
    "  clipped = nc_file.rio.clip(polygon.geometry,polygon.crs)\n",
    "  del lons, lats\n",
    "\n",
    "  # Rename dimensions to match expected names in fine_grid_no_interpolation\n",
    "  # Assuming the time dimension is named 'valid_time' in the input nc_file (t2m)\n",
    "  original_time_dim = [name for name in clipped.dims if 'time' in name.lower()][0]\n",
    "  clipped = clipped.rename({original_time_dim: 'time'})\n",
    "\n",
    "\n",
    "  data_set = fine_grid_no_interpolation(clipped, regridding_factor, epsilon)\n",
    "  data_set.rio.set_spatial_dims(x_dim=[name for name in data_set.coords if 'lon' in name.lower()][0],\n",
    "                                y_dim=[name for name in data_set.coords if 'lat' in name.lower()][0],\n",
    "                                inplace=True)\n",
    "  data_set.rio.write_crs(\"epsg:4326\", inplace=True)\n",
    "\n",
    "  c = data_set.rio.clip(poly.geometry,polygon.crs)\n",
    "\n",
    "  # Convert to DataFrame and inspect before groupby\n",
    "  df_before_groupby = c.to_dataframe().dropna().reset_index()\n",
    "\n",
    "\n",
    "  avg_df = df_before_groupby.groupby('time')[list(c.data_vars.keys())[0]].mean()\n",
    "  return avg_df"
   ]
  },
  {
   "cell_type": "code",
   "execution_count": 15,
   "id": "27930783",
   "metadata": {},
   "outputs": [],
   "source": [
    "import warnings\n",
    "warnings.filterwarnings(\"ignore\")"
   ]
  },
  {
   "cell_type": "code",
   "execution_count": 8,
   "id": "ff179841",
   "metadata": {},
   "outputs": [
    {
     "name": "stderr",
     "output_type": "stream",
     "text": [
      "C:\\Users\\user\\AppData\\Local\\Temp\\ipykernel_748\\420682152.py:3: UserWarning: Geometry is in a geographic CRS. Results from 'centroid' are likely incorrect. Use 'GeoSeries.to_crs()' to re-project geometries to a projected CRS before this operation.\n",
      "\n",
      "  x = poly_4326.centroid.x.values[0]\n",
      "C:\\Users\\user\\AppData\\Local\\Temp\\ipykernel_748\\420682152.py:4: UserWarning: Geometry is in a geographic CRS. Results from 'centroid' are likely incorrect. Use 'GeoSeries.to_crs()' to re-project geometries to a projected CRS before this operation.\n",
      "\n",
      "  y = poly_4326.centroid.y.values[0]\n",
      "C:\\Users\\user\\AppData\\Local\\Temp\\ipykernel_748\\420682152.py:32: UserWarning: rename 'time' to 'time' does not create an index anymore. Try using swap_dims instead or use set_index after rename to create an indexed coordinate.\n",
      "  clipped = clipped.rename({original_time_dim: 'time'})\n",
      "C:\\Users\\user\\AppData\\Local\\Temp\\ipykernel_748\\420682152.py:3: UserWarning: Geometry is in a geographic CRS. Results from 'centroid' are likely incorrect. Use 'GeoSeries.to_crs()' to re-project geometries to a projected CRS before this operation.\n",
      "\n",
      "  x = poly_4326.centroid.x.values[0]\n",
      "C:\\Users\\user\\AppData\\Local\\Temp\\ipykernel_748\\420682152.py:4: UserWarning: Geometry is in a geographic CRS. Results from 'centroid' are likely incorrect. Use 'GeoSeries.to_crs()' to re-project geometries to a projected CRS before this operation.\n",
      "\n",
      "  y = poly_4326.centroid.y.values[0]\n",
      "C:\\Users\\user\\AppData\\Local\\Temp\\ipykernel_748\\420682152.py:32: UserWarning: rename 'time' to 'time' does not create an index anymore. Try using swap_dims instead or use set_index after rename to create an indexed coordinate.\n",
      "  clipped = clipped.rename({original_time_dim: 'time'})\n",
      "C:\\Users\\user\\AppData\\Local\\Temp\\ipykernel_748\\420682152.py:3: UserWarning: Geometry is in a geographic CRS. Results from 'centroid' are likely incorrect. Use 'GeoSeries.to_crs()' to re-project geometries to a projected CRS before this operation.\n",
      "\n",
      "  x = poly_4326.centroid.x.values[0]\n",
      "C:\\Users\\user\\AppData\\Local\\Temp\\ipykernel_748\\420682152.py:4: UserWarning: Geometry is in a geographic CRS. Results from 'centroid' are likely incorrect. Use 'GeoSeries.to_crs()' to re-project geometries to a projected CRS before this operation.\n",
      "\n",
      "  y = poly_4326.centroid.y.values[0]\n",
      "C:\\Users\\user\\AppData\\Local\\Temp\\ipykernel_748\\420682152.py:32: UserWarning: rename 'time' to 'time' does not create an index anymore. Try using swap_dims instead or use set_index after rename to create an indexed coordinate.\n",
      "  clipped = clipped.rename({original_time_dim: 'time'})\n"
     ]
    }
   ],
   "source": [
    "df = []\n",
    "for nc in ncs:\n",
    "    df.append(extracting_and_averaging_polygon(amm_pol, nc, regridding_factor=25))\n",
    "amm_df = pd.concat(df, axis=1)"
   ]
  },
  {
   "cell_type": "code",
   "execution_count": 9,
   "id": "96f4b12a",
   "metadata": {},
   "outputs": [
    {
     "name": "stderr",
     "output_type": "stream",
     "text": [
      "C:\\Users\\user\\AppData\\Local\\Temp\\ipykernel_748\\420682152.py:3: UserWarning: Geometry is in a geographic CRS. Results from 'centroid' are likely incorrect. Use 'GeoSeries.to_crs()' to re-project geometries to a projected CRS before this operation.\n",
      "\n",
      "  x = poly_4326.centroid.x.values[0]\n",
      "C:\\Users\\user\\AppData\\Local\\Temp\\ipykernel_748\\420682152.py:4: UserWarning: Geometry is in a geographic CRS. Results from 'centroid' are likely incorrect. Use 'GeoSeries.to_crs()' to re-project geometries to a projected CRS before this operation.\n",
      "\n",
      "  y = poly_4326.centroid.y.values[0]\n",
      "C:\\Users\\user\\AppData\\Local\\Temp\\ipykernel_748\\420682152.py:32: UserWarning: rename 'time' to 'time' does not create an index anymore. Try using swap_dims instead or use set_index after rename to create an indexed coordinate.\n",
      "  clipped = clipped.rename({original_time_dim: 'time'})\n",
      "C:\\Users\\user\\AppData\\Local\\Temp\\ipykernel_748\\420682152.py:3: UserWarning: Geometry is in a geographic CRS. Results from 'centroid' are likely incorrect. Use 'GeoSeries.to_crs()' to re-project geometries to a projected CRS before this operation.\n",
      "\n",
      "  x = poly_4326.centroid.x.values[0]\n",
      "C:\\Users\\user\\AppData\\Local\\Temp\\ipykernel_748\\420682152.py:4: UserWarning: Geometry is in a geographic CRS. Results from 'centroid' are likely incorrect. Use 'GeoSeries.to_crs()' to re-project geometries to a projected CRS before this operation.\n",
      "\n",
      "  y = poly_4326.centroid.y.values[0]\n",
      "C:\\Users\\user\\AppData\\Local\\Temp\\ipykernel_748\\420682152.py:32: UserWarning: rename 'time' to 'time' does not create an index anymore. Try using swap_dims instead or use set_index after rename to create an indexed coordinate.\n",
      "  clipped = clipped.rename({original_time_dim: 'time'})\n",
      "C:\\Users\\user\\AppData\\Local\\Temp\\ipykernel_748\\420682152.py:3: UserWarning: Geometry is in a geographic CRS. Results from 'centroid' are likely incorrect. Use 'GeoSeries.to_crs()' to re-project geometries to a projected CRS before this operation.\n",
      "\n",
      "  x = poly_4326.centroid.x.values[0]\n",
      "C:\\Users\\user\\AppData\\Local\\Temp\\ipykernel_748\\420682152.py:4: UserWarning: Geometry is in a geographic CRS. Results from 'centroid' are likely incorrect. Use 'GeoSeries.to_crs()' to re-project geometries to a projected CRS before this operation.\n",
      "\n",
      "  y = poly_4326.centroid.y.values[0]\n",
      "C:\\Users\\user\\AppData\\Local\\Temp\\ipykernel_748\\420682152.py:32: UserWarning: rename 'time' to 'time' does not create an index anymore. Try using swap_dims instead or use set_index after rename to create an indexed coordinate.\n",
      "  clipped = clipped.rename({original_time_dim: 'time'})\n"
     ]
    }
   ],
   "source": [
    "df = []\n",
    "for nc in ncs:\n",
    "    df.append(extracting_and_averaging_polygon(irb_pol, nc, regridding_factor=25))\n",
    "irb_df = pd.concat(df, axis=1)"
   ]
  },
  {
   "cell_type": "code",
   "execution_count": 10,
   "id": "2616f928",
   "metadata": {},
   "outputs": [
    {
     "name": "stderr",
     "output_type": "stream",
     "text": [
      "C:\\Users\\user\\AppData\\Local\\Temp\\ipykernel_748\\420682152.py:3: UserWarning: Geometry is in a geographic CRS. Results from 'centroid' are likely incorrect. Use 'GeoSeries.to_crs()' to re-project geometries to a projected CRS before this operation.\n",
      "\n",
      "  x = poly_4326.centroid.x.values[0]\n",
      "C:\\Users\\user\\AppData\\Local\\Temp\\ipykernel_748\\420682152.py:4: UserWarning: Geometry is in a geographic CRS. Results from 'centroid' are likely incorrect. Use 'GeoSeries.to_crs()' to re-project geometries to a projected CRS before this operation.\n",
      "\n",
      "  y = poly_4326.centroid.y.values[0]\n",
      "C:\\Users\\user\\AppData\\Local\\Temp\\ipykernel_748\\420682152.py:32: UserWarning: rename 'time' to 'time' does not create an index anymore. Try using swap_dims instead or use set_index after rename to create an indexed coordinate.\n",
      "  clipped = clipped.rename({original_time_dim: 'time'})\n",
      "C:\\Users\\user\\AppData\\Local\\Temp\\ipykernel_748\\420682152.py:3: UserWarning: Geometry is in a geographic CRS. Results from 'centroid' are likely incorrect. Use 'GeoSeries.to_crs()' to re-project geometries to a projected CRS before this operation.\n",
      "\n",
      "  x = poly_4326.centroid.x.values[0]\n",
      "C:\\Users\\user\\AppData\\Local\\Temp\\ipykernel_748\\420682152.py:4: UserWarning: Geometry is in a geographic CRS. Results from 'centroid' are likely incorrect. Use 'GeoSeries.to_crs()' to re-project geometries to a projected CRS before this operation.\n",
      "\n",
      "  y = poly_4326.centroid.y.values[0]\n",
      "C:\\Users\\user\\AppData\\Local\\Temp\\ipykernel_748\\420682152.py:32: UserWarning: rename 'time' to 'time' does not create an index anymore. Try using swap_dims instead or use set_index after rename to create an indexed coordinate.\n",
      "  clipped = clipped.rename({original_time_dim: 'time'})\n",
      "C:\\Users\\user\\AppData\\Local\\Temp\\ipykernel_748\\420682152.py:3: UserWarning: Geometry is in a geographic CRS. Results from 'centroid' are likely incorrect. Use 'GeoSeries.to_crs()' to re-project geometries to a projected CRS before this operation.\n",
      "\n",
      "  x = poly_4326.centroid.x.values[0]\n",
      "C:\\Users\\user\\AppData\\Local\\Temp\\ipykernel_748\\420682152.py:4: UserWarning: Geometry is in a geographic CRS. Results from 'centroid' are likely incorrect. Use 'GeoSeries.to_crs()' to re-project geometries to a projected CRS before this operation.\n",
      "\n",
      "  y = poly_4326.centroid.y.values[0]\n",
      "C:\\Users\\user\\AppData\\Local\\Temp\\ipykernel_748\\420682152.py:32: UserWarning: rename 'time' to 'time' does not create an index anymore. Try using swap_dims instead or use set_index after rename to create an indexed coordinate.\n",
      "  clipped = clipped.rename({original_time_dim: 'time'})\n"
     ]
    }
   ],
   "source": [
    "df = []\n",
    "for nc in ncs:\n",
    "    df.append(extracting_and_averaging_polygon(zar_pol, nc, regridding_factor=10))\n",
    "zar_df = pd.concat(df, axis=1)"
   ]
  },
  {
   "cell_type": "code",
   "execution_count": 11,
   "id": "d0b1de3c",
   "metadata": {},
   "outputs": [],
   "source": [
    "names = ['Amman', 'Irbid', 'Zarqa']\n",
    "dfs = [amm_df, irb_df, zar_df]"
   ]
  },
  {
   "cell_type": "code",
   "execution_count": 12,
   "id": "e4768158",
   "metadata": {},
   "outputs": [],
   "source": [
    "for df in dfs:\n",
    "    df['t2m'] = np.round(df['t2m']-273.15, 2)\n",
    "    df['d2m'] = np.round(df['d2m']-273.15, 2)\n",
    "    df['sp'] = np.round(df['sp']/1000, 4)  # Convert pressure from Pa to kPa"
   ]
  },
  {
   "cell_type": "code",
   "execution_count": 13,
   "id": "44153048",
   "metadata": {},
   "outputs": [],
   "source": [
    "def calculate_relative_humidity(T, Dp):\n",
    "    \"\"\"\n",
    "    Calculate relative humidity (RH) given temperature (T) and dew point (Dp).\n",
    "    T and Dp should be in degrees Celsius.\n",
    "    Returns RH in percentage.\n",
    "    \"\"\"\n",
    "    numerator = np.exp((17.625 * Dp) / (243.04 + Dp))\n",
    "    denominator = np.exp((17.625 * T) / (243.04 + T))\n",
    "    RH = 100 * (numerator / denominator)\n",
    "    return RH"
   ]
  },
  {
   "cell_type": "code",
   "execution_count": 14,
   "id": "cecc673e",
   "metadata": {},
   "outputs": [],
   "source": [
    "for df in dfs:\n",
    "    df['RH'] = np.round(calculate_relative_humidity(df['t2m'], df['d2m']), 2)\n",
    "    df[df['RH'] <= 0] = 0  # Ensure RH is not negative\n",
    "    df[df['RH'] >= 100] = 100  # Ensure RH does not exceed 100%"
   ]
  },
  {
   "cell_type": "code",
   "execution_count": 22,
   "id": "e822cbfa",
   "metadata": {},
   "outputs": [],
   "source": [
    "for i in range(len(dfs)):\n",
    "    dfs[i].to_excel(r\"C:\\Users\\user\\OneDrive\\Desktop\\new ap mort\\NC data\\Excel/\" + names[i] + \".xlsx\", index=True, header=True)"
   ]
  }
 ],
 "metadata": {
  "kernelspec": {
   "display_name": "tf-gpu",
   "language": "python",
   "name": "python3"
  },
  "language_info": {
   "codemirror_mode": {
    "name": "ipython",
    "version": 3
   },
   "file_extension": ".py",
   "mimetype": "text/x-python",
   "name": "python",
   "nbconvert_exporter": "python",
   "pygments_lexer": "ipython3",
   "version": "3.8.19"
  }
 },
 "nbformat": 4,
 "nbformat_minor": 5
}
