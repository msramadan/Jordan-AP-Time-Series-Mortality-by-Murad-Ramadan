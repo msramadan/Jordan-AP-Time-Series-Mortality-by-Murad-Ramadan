{
 "cells": [
  {
   "cell_type": "code",
   "execution_count": 22,
   "id": "5618c648",
   "metadata": {},
   "outputs": [],
   "source": [
    "import pandas as pd\n",
    "import numpy as np\n",
    "import geopandas as gpd\n",
    "import os"
   ]
  },
  {
   "cell_type": "code",
   "execution_count": 23,
   "id": "689989a9",
   "metadata": {},
   "outputs": [],
   "source": [
    "folder = r\"C:\\Users\\user\\OneDrive\\Desktop\\new ap mort\\Qasaba SHP\\Amman/\""
   ]
  },
  {
   "cell_type": "code",
   "execution_count": 24,
   "id": "15d46c68",
   "metadata": {},
   "outputs": [],
   "source": [
    "shapes = []\n",
    "for file in os.listdir(folder):\n",
    "    if file.endswith(\".shp\"):\n",
    "        shapes.append(gpd.read_file(os.path.join(folder, file)))"
   ]
  },
  {
   "cell_type": "code",
   "execution_count": 25,
   "id": "d16e2a6c",
   "metadata": {},
   "outputs": [],
   "source": [
    "amm = pd.concat(shapes)"
   ]
  },
  {
   "cell_type": "code",
   "execution_count": 26,
   "id": "9cb4f93c",
   "metadata": {},
   "outputs": [
    {
     "data": {
      "text/html": [
       "<div>\n",
       "<style scoped>\n",
       "    .dataframe tbody tr th:only-of-type {\n",
       "        vertical-align: middle;\n",
       "    }\n",
       "\n",
       "    .dataframe tbody tr th {\n",
       "        vertical-align: top;\n",
       "    }\n",
       "\n",
       "    .dataframe thead th {\n",
       "        text-align: right;\n",
       "    }\n",
       "</style>\n",
       "<table border=\"1\" class=\"dataframe\">\n",
       "  <thead>\n",
       "    <tr style=\"text-align: right;\">\n",
       "      <th></th>\n",
       "      <th>gid</th>\n",
       "      <th>admin_leve</th>\n",
       "      <th>boundary</th>\n",
       "      <th>name</th>\n",
       "      <th>z_order</th>\n",
       "      <th>way_area</th>\n",
       "      <th>Governate</th>\n",
       "      <th>income</th>\n",
       "      <th>is applica</th>\n",
       "      <th>geometry</th>\n",
       "    </tr>\n",
       "  </thead>\n",
       "  <tbody>\n",
       "    <tr>\n",
       "      <th>0</th>\n",
       "      <td>-13376006.0</td>\n",
       "      <td>5</td>\n",
       "      <td>administrative</td>\n",
       "      <td>Al Jami'a</td>\n",
       "      <td>0.0</td>\n",
       "      <td>174086000.0</td>\n",
       "      <td>Amman</td>\n",
       "      <td>None</td>\n",
       "      <td>None</td>\n",
       "      <td>POLYGON ((35.79664 32.03064, 35.79666 32.03102...</td>\n",
       "    </tr>\n",
       "    <tr>\n",
       "      <th>0</th>\n",
       "      <td>-13376002.0</td>\n",
       "      <td>5</td>\n",
       "      <td>administrative</td>\n",
       "      <td>Marka</td>\n",
       "      <td>0.0</td>\n",
       "      <td>386367000.0</td>\n",
       "      <td>Amman</td>\n",
       "      <td>None</td>\n",
       "      <td>None</td>\n",
       "      <td>POLYGON ((35.91602 31.99279, 35.91688 32.00094...</td>\n",
       "    </tr>\n",
       "    <tr>\n",
       "      <th>0</th>\n",
       "      <td>-13376001.0</td>\n",
       "      <td>5</td>\n",
       "      <td>administrative</td>\n",
       "      <td>Qasabet Amman</td>\n",
       "      <td>0.0</td>\n",
       "      <td>62655600.0</td>\n",
       "      <td>Amman</td>\n",
       "      <td>None</td>\n",
       "      <td>yes</td>\n",
       "      <td>POLYGON ((35.86950 31.94182, 35.86981 31.97409...</td>\n",
       "    </tr>\n",
       "  </tbody>\n",
       "</table>\n",
       "</div>"
      ],
      "text/plain": [
       "          gid admin_leve        boundary           name  z_order     way_area  \\\n",
       "0 -13376006.0          5  administrative      Al Jami'a      0.0  174086000.0   \n",
       "0 -13376002.0          5  administrative          Marka      0.0  386367000.0   \n",
       "0 -13376001.0          5  administrative  Qasabet Amman      0.0   62655600.0   \n",
       "\n",
       "  Governate income is applica  \\\n",
       "0     Amman   None       None   \n",
       "0     Amman   None       None   \n",
       "0     Amman   None        yes   \n",
       "\n",
       "                                            geometry  \n",
       "0  POLYGON ((35.79664 32.03064, 35.79666 32.03102...  \n",
       "0  POLYGON ((35.91602 31.99279, 35.91688 32.00094...  \n",
       "0  POLYGON ((35.86950 31.94182, 35.86981 31.97409...  "
      ]
     },
     "execution_count": 26,
     "metadata": {},
     "output_type": "execute_result"
    }
   ],
   "source": [
    "amm"
   ]
  },
  {
   "cell_type": "code",
   "execution_count": 27,
   "id": "817fc3f8",
   "metadata": {},
   "outputs": [],
   "source": [
    "amman = amm.dissolve(by='Governate')\n",
    "amman = amman.to_crs('EPSG:4326')"
   ]
  },
  {
   "cell_type": "code",
   "execution_count": 28,
   "id": "5d68a210",
   "metadata": {},
   "outputs": [],
   "source": [
    "amman['name'] = amman.index\n"
   ]
  },
  {
   "cell_type": "code",
   "execution_count": 29,
   "id": "9e0a95a3",
   "metadata": {},
   "outputs": [],
   "source": [
    "amman.reset_index().to_file(r\"C:\\Users\\user\\OneDrive\\Desktop\\new ap mort\\Qasaba SHP\\Amman.shp\")"
   ]
  }
 ],
 "metadata": {
  "kernelspec": {
   "display_name": "tf-gpu",
   "language": "python",
   "name": "python3"
  },
  "language_info": {
   "codemirror_mode": {
    "name": "ipython",
    "version": 3
   },
   "file_extension": ".py",
   "mimetype": "text/x-python",
   "name": "python",
   "nbconvert_exporter": "python",
   "pygments_lexer": "ipython3",
   "version": "3.8.19"
  }
 },
 "nbformat": 4,
 "nbformat_minor": 5
}
