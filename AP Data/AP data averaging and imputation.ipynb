{
 "cells": [
  {
   "cell_type": "code",
   "execution_count": 1,
   "id": "72c5eb84",
   "metadata": {},
   "outputs": [],
   "source": [
    "import numpy as np\n",
    "import pandas as pd\n",
    "import os"
   ]
  },
  {
   "cell_type": "code",
   "execution_count": 11,
   "id": "538d2be8",
   "metadata": {},
   "outputs": [],
   "source": [
    "def clean_log_3sigma(df, col):\n",
    "    mean = np.log10(df[col]).mean()\n",
    "    std = np.log10(df[col]).std()\n",
    "    up_thresh = mean + 3 * std\n",
    "    low_thresh = mean - 3 * std\n",
    "    row_ind_2 = (np.log10(df[col]) > up_thresh)\n",
    "    row_ind_3 = (np.log10(df[col]) < low_thresh)\n",
    "    df.loc[row_ind_2, col] = np.nan\n",
    "    df.loc[row_ind_3, col] = np.nan"
   ]
  },
  {
   "cell_type": "code",
   "execution_count": 14,
   "id": "7efefed9",
   "metadata": {},
   "outputs": [],
   "source": [
    "folder = r\"C:\\Users\\user\\OneDrive\\Desktop\\new ap mort\\AP data\\Amman/\"\n",
    "files = [file for file in os.listdir(folder) if file.endswith('.xlsx')]\n",
    "amm = [pd.read_excel(folder + file) for file in files]\n",
    "files = [file[2:5] for file in files]\n",
    "for i in range(len(files)):\n",
    "    amm[i]['Sta'] = files[i]"
   ]
  },
  {
   "cell_type": "code",
   "execution_count": null,
   "id": "7d886a43",
   "metadata": {},
   "outputs": [],
   "source": [
    "print(len(amm[amm['PM10'].isna()]))\n"
   ]
  },
  {
   "cell_type": "code",
   "execution_count": 19,
   "id": "bd3a4146",
   "metadata": {},
   "outputs": [
    {
     "data": {
      "text/plain": [
       "6840"
      ]
     },
     "execution_count": 19,
     "metadata": {},
     "output_type": "execute_result"
    }
   ],
   "source": [
    "len(pd.concat(amm, ignore_index=True)[pd.concat(amm, ignore_index=True)['PM10'].isna()])"
   ]
  },
  {
   "cell_type": "code",
   "execution_count": 20,
   "id": "ceee11a7",
   "metadata": {},
   "outputs": [],
   "source": [
    "for i in range(len(amm)):\n",
    "    clean_log_3sigma(amm[i], 'PM10')"
   ]
  },
  {
   "cell_type": "code",
   "execution_count": 22,
   "id": "29368256",
   "metadata": {},
   "outputs": [],
   "source": [
    "folder = r\"C:\\Users\\user\\OneDrive\\Desktop\\new ap mort\\AP data\\Irbid/\"\n",
    "files = [file for file in os.listdir(folder) if file.endswith('.xlsx')]\n",
    "irb = [pd.read_excel(folder + file) for file in files]\n",
    "files = [file[2:5] for file in files]\n",
    "for i in range(len(files)):\n",
    "    irb[i]['Sta'] = files[i]"
   ]
  },
  {
   "cell_type": "code",
   "execution_count": 23,
   "id": "cd95b13d",
   "metadata": {},
   "outputs": [],
   "source": [
    "for i in range(len(irb)):\n",
    "    clean_log_3sigma(irb[i], 'PM10')"
   ]
  },
  {
   "cell_type": "code",
   "execution_count": 27,
   "id": "414ad485",
   "metadata": {},
   "outputs": [],
   "source": [
    "folder = r\"C:\\Users\\user\\OneDrive\\Desktop\\new ap mort\\AP data\\Zarqaa/\"\n",
    "files = [file for file in os.listdir(folder) if file.endswith('.xlsx')]\n",
    "zar = [pd.read_excel(folder + file) for file in files]\n",
    "files = [file[2:5] for file in files]\n",
    "for i in range(len(files)):\n",
    "    zar[i]['Sta'] = files[i]"
   ]
  },
  {
   "cell_type": "code",
   "execution_count": 28,
   "id": "3c5d77f1",
   "metadata": {},
   "outputs": [],
   "source": [
    "for i in range(len(zar)):\n",
    "    clean_log_3sigma(zar[i], 'PM10')"
   ]
  },
  {
   "cell_type": "code",
   "execution_count": 29,
   "id": "4e4fe722",
   "metadata": {},
   "outputs": [],
   "source": [
    "amm = pd.concat(amm, ignore_index=True)\n",
    "irb = pd.concat(irb, ignore_index=True)\n",
    "zar = pd.concat(zar, ignore_index=True)"
   ]
  },
  {
   "cell_type": "code",
   "execution_count": 30,
   "id": "cf27452a",
   "metadata": {},
   "outputs": [],
   "source": [
    "def impute(df, col):\n",
    "    for day in df['Date'].unique():\n",
    "        year = pd.to_datetime(day).year\n",
    "        sdf = df[df['Date'] == day]\n",
    "        nandf = sdf[sdf[col].isna()]\n",
    "        if not nandf.empty:\n",
    "            mean_value = sdf[col].mean()\n",
    "            if len(nandf) == 1:\n",
    "                sta_ann_mean = df[(df['Sta'] == nandf['Sta'].values[0]) & (df['Date'].dt.year == year)][col].mean()\n",
    "                rest_ann_mean = df[(df['Sta'] != nandf['Sta'].values[0]) & (df['Date'].dt.year == year)][col].mean()\n",
    "                df.loc[nandf.index, col] = mean_value * (sta_ann_mean / rest_ann_mean)\n",
    "            if len(nandf) > 1:\n",
    "                for i in range(len(nandf)):\n",
    "                    sta_ann_mean = df[(df['Sta'] == nandf['Sta'].values[i]) & (df['Date'].dt.year == year)][col].mean()\n",
    "                    rest_ann_mean = df[(df['Sta'] != nandf['Sta'].values[i]) & (df['Date'].dt.year == year)][col].mean()\n",
    "                    df.loc[nandf.index[i], col] = mean_value * (sta_ann_mean / rest_ann_mean)\n",
    "\n",
    "    return df"
   ]
  },
  {
   "cell_type": "code",
   "execution_count": 31,
   "id": "b67ec5aa",
   "metadata": {},
   "outputs": [
    {
     "data": {
      "application/vnd.microsoft.datawrangler.viewer.v0+json": {
       "columns": [
        {
         "name": "index",
         "rawType": "int64",
         "type": "integer"
        },
        {
         "name": "Date",
         "rawType": "datetime64[ns]",
         "type": "datetime"
        },
        {
         "name": "PM10",
         "rawType": "float64",
         "type": "float"
        },
        {
         "name": "PM2p5",
         "rawType": "float64",
         "type": "float"
        },
        {
         "name": "NO2",
         "rawType": "float64",
         "type": "float"
        },
        {
         "name": "SO2",
         "rawType": "float64",
         "type": "float"
        },
        {
         "name": "CO",
         "rawType": "float64",
         "type": "float"
        },
        {
         "name": "O3",
         "rawType": "float64",
         "type": "float"
        },
        {
         "name": "Sta",
         "rawType": "object",
         "type": "string"
        }
       ],
       "ref": "e6558d6d-6250-4a45-837f-58b25a8d9cfc",
       "rows": [
        [
         "0",
         "2015-01-01 00:00:00",
         "124.0",
         null,
         "41.7",
         "28.2",
         "2463.0",
         null,
         "GAM"
        ],
        [
         "1",
         "2015-01-02 00:00:00",
         "191.0",
         null,
         "21.4",
         "9.66",
         "2126.0",
         null,
         "GAM"
        ],
        [
         "2",
         "2015-01-03 00:00:00",
         "76.0",
         null,
         "27.9",
         "11.8",
         "2480.0",
         null,
         "GAM"
        ],
        [
         "3",
         "2015-01-04 00:00:00",
         "24.4",
         null,
         "18.7",
         "6.08",
         "1837.0",
         null,
         "GAM"
        ],
        [
         "4",
         "2015-01-05 00:00:00",
         "37.3",
         null,
         "19.7",
         "10.3",
         "2032.0",
         null,
         "GAM"
        ],
        [
         "5",
         "2015-01-06 00:00:00",
         "371.0",
         null,
         "28.2",
         "9.02",
         "1820.0",
         null,
         "GAM"
        ],
        [
         "6",
         "2015-01-07 00:00:00",
         "316.0",
         null,
         "10.9",
         "3.61",
         "1667.0",
         null,
         "GAM"
        ],
        [
         "7",
         "2015-01-08 00:00:00",
         "9.71",
         null,
         "7.24",
         "3.32",
         "1730.0",
         null,
         "GAM"
        ],
        [
         "8",
         "2015-01-09 00:00:00",
         "11.8",
         null,
         "13.1875",
         "5.82",
         "1899.0",
         null,
         "GAM"
        ],
        [
         "9",
         "2015-01-10 00:00:00",
         "17.9",
         null,
         "12.9",
         "6.04",
         "1888.0",
         null,
         "GAM"
        ],
        [
         "10",
         "2015-01-11 00:00:00",
         "16.3",
         null,
         "15.7",
         "6.07",
         "2102.0",
         null,
         "GAM"
        ],
        [
         "11",
         "2015-01-12 00:00:00",
         "17.4",
         null,
         "19.9",
         "5.26",
         "2004.0",
         null,
         "GAM"
        ],
        [
         "12",
         "2015-01-13 00:00:00",
         "52.1",
         null,
         "24.1",
         "11.4",
         "2309.0",
         null,
         "GAM"
        ],
        [
         "13",
         "2015-01-14 00:00:00",
         "174.0",
         null,
         "36.0",
         "25.6",
         "3793.0",
         null,
         "GAM"
        ],
        [
         "14",
         "2015-01-15 00:00:00",
         "68.8",
         null,
         "30.6",
         "9.36",
         "2131.0",
         null,
         "GAM"
        ],
        [
         "15",
         "2015-01-16 00:00:00",
         "47.1",
         null,
         "21.2",
         "7.1",
         "2429.0",
         null,
         "GAM"
        ],
        [
         "16",
         "2015-01-17 00:00:00",
         "78.8",
         null,
         "35.3",
         "14.3",
         "3627.0",
         null,
         "GAM"
        ],
        [
         "17",
         "2015-01-18 00:00:00",
         "81.3",
         null,
         "35.1",
         "19.1",
         "3456.0",
         null,
         "GAM"
        ],
        [
         "18",
         "2015-01-19 00:00:00",
         "139.0",
         null,
         "39.7",
         "19.4",
         "3852.0",
         null,
         "GAM"
        ],
        [
         "19",
         "2015-01-20 00:00:00",
         "253.0",
         null,
         "42.1",
         "34.9",
         "4385.0",
         null,
         "GAM"
        ],
        [
         "20",
         "2015-01-21 00:00:00",
         "346.0",
         null,
         "64.4",
         "47.2",
         "4739.0",
         null,
         "GAM"
        ],
        [
         "21",
         "2015-01-22 00:00:00",
         "198.0",
         null,
         "45.9",
         "47.0",
         "3224.0",
         null,
         "GAM"
        ],
        [
         "22",
         "2015-01-23 00:00:00",
         "114.0",
         null,
         "49.0",
         "32.5",
         "1382.0",
         null,
         "GAM"
        ],
        [
         "23",
         "2015-01-24 00:00:00",
         "74.8",
         null,
         "41.2",
         "39.4",
         "1328.0",
         null,
         "GAM"
        ],
        [
         "24",
         "2015-01-25 00:00:00",
         "75.3",
         null,
         "56.3",
         "50.6",
         "3266.0",
         null,
         "GAM"
        ],
        [
         "25",
         "2015-01-26 00:00:00",
         "115.0",
         null,
         "45.5",
         "35.6",
         "2183.0",
         null,
         "GAM"
        ],
        [
         "26",
         "2015-01-27 00:00:00",
         "182.0",
         null,
         "40.8",
         "35.0",
         "2388.0",
         null,
         "GAM"
        ],
        [
         "27",
         "2015-01-28 00:00:00",
         "111.0",
         null,
         "37.1",
         "21.8",
         "1926.0",
         null,
         "GAM"
        ],
        [
         "28",
         "2015-01-29 00:00:00",
         "89.6",
         null,
         "32.9",
         "18.6",
         "1999.0",
         null,
         "GAM"
        ],
        [
         "29",
         "2015-01-30 00:00:00",
         "96.6",
         null,
         "31.4",
         "14.3",
         "2312.0",
         null,
         "GAM"
        ],
        [
         "30",
         "2015-01-31 00:00:00",
         "131.0",
         null,
         "33.0",
         "26.8",
         "1901.0",
         null,
         "GAM"
        ],
        [
         "31",
         "2015-02-01 00:00:00",
         "195.0",
         null,
         "45.8",
         "46.6",
         "3003.0",
         null,
         "GAM"
        ],
        [
         "32",
         "2015-02-02 00:00:00",
         "196.0",
         null,
         "45.6",
         "41.0",
         "3041.0",
         null,
         "GAM"
        ],
        [
         "33",
         "2015-02-03 00:00:00",
         "91.6",
         null,
         "40.5",
         "20.0",
         "1492.0",
         null,
         "GAM"
        ],
        [
         "34",
         "2015-02-04 00:00:00",
         "78.9",
         null,
         "27.3",
         "12.2",
         "1243.0",
         null,
         "GAM"
        ],
        [
         "35",
         "2015-02-05 00:00:00",
         "107.0",
         null,
         "31.0",
         "21.4",
         "2165.0",
         null,
         "GAM"
        ],
        [
         "36",
         "2015-02-06 00:00:00",
         "128.0",
         null,
         "41.0",
         "25.0",
         "1852.0",
         null,
         "GAM"
        ],
        [
         "37",
         "2015-02-07 00:00:00",
         "113.0",
         null,
         "43.0",
         "23.9",
         "2057.0",
         null,
         "GAM"
        ],
        [
         "38",
         "2015-02-08 00:00:00",
         "47.8",
         null,
         "24.4",
         "7.92",
         "1025.0",
         null,
         "GAM"
        ],
        [
         "39",
         "2015-02-09 00:00:00",
         "50.8",
         null,
         "22.3",
         "9.72",
         "1192.0",
         null,
         "GAM"
        ],
        [
         "40",
         "2015-02-10 00:00:00",
         null,
         null,
         "31.9",
         "12.7",
         "1352.0",
         null,
         "GAM"
        ],
        [
         "41",
         "2015-02-11 00:00:00",
         null,
         null,
         "17.6",
         "5.37",
         "883.0",
         null,
         "GAM"
        ],
        [
         "42",
         "2015-02-12 00:00:00",
         "344.0",
         null,
         "16.0",
         "6.23",
         "1250.0",
         null,
         "GAM"
        ],
        [
         "43",
         "2015-02-13 00:00:00",
         "69.0",
         null,
         "22.4",
         "4.88",
         "1064.0",
         null,
         "GAM"
        ],
        [
         "44",
         "2015-02-14 00:00:00",
         "42.5",
         null,
         "20.1",
         "6.43",
         "1552.0",
         null,
         "GAM"
        ],
        [
         "45",
         "2015-02-15 00:00:00",
         "77.6",
         null,
         "29.8",
         "9.0",
         "2272.0",
         null,
         "GAM"
        ],
        [
         "46",
         "2015-02-16 00:00:00",
         "34.6",
         null,
         "20.7",
         "5.34",
         "1618.0",
         null,
         "GAM"
        ],
        [
         "47",
         "2015-02-17 00:00:00",
         "72.6",
         null,
         "29.1",
         "8.44",
         "2094.0",
         null,
         "GAM"
        ],
        [
         "48",
         "2015-02-18 00:00:00",
         "33.9",
         null,
         "28.8",
         "5.29",
         "1525.0",
         null,
         "GAM"
        ],
        [
         "49",
         "2015-02-19 00:00:00",
         "12.1",
         null,
         "14.4",
         "3.24",
         "1070.0",
         null,
         "GAM"
        ]
       ],
       "shape": {
        "columns": 8,
        "rows": 19398
       }
      },
      "text/html": [
       "<div>\n",
       "<style scoped>\n",
       "    .dataframe tbody tr th:only-of-type {\n",
       "        vertical-align: middle;\n",
       "    }\n",
       "\n",
       "    .dataframe tbody tr th {\n",
       "        vertical-align: top;\n",
       "    }\n",
       "\n",
       "    .dataframe thead th {\n",
       "        text-align: right;\n",
       "    }\n",
       "</style>\n",
       "<table border=\"1\" class=\"dataframe\">\n",
       "  <thead>\n",
       "    <tr style=\"text-align: right;\">\n",
       "      <th></th>\n",
       "      <th>Date</th>\n",
       "      <th>PM10</th>\n",
       "      <th>PM2p5</th>\n",
       "      <th>NO2</th>\n",
       "      <th>SO2</th>\n",
       "      <th>CO</th>\n",
       "      <th>O3</th>\n",
       "      <th>Sta</th>\n",
       "    </tr>\n",
       "  </thead>\n",
       "  <tbody>\n",
       "    <tr>\n",
       "      <th>0</th>\n",
       "      <td>2015-01-01</td>\n",
       "      <td>124.0</td>\n",
       "      <td>NaN</td>\n",
       "      <td>41.7</td>\n",
       "      <td>28.20</td>\n",
       "      <td>2463.0</td>\n",
       "      <td>NaN</td>\n",
       "      <td>GAM</td>\n",
       "    </tr>\n",
       "    <tr>\n",
       "      <th>1</th>\n",
       "      <td>2015-01-02</td>\n",
       "      <td>191.0</td>\n",
       "      <td>NaN</td>\n",
       "      <td>21.4</td>\n",
       "      <td>9.66</td>\n",
       "      <td>2126.0</td>\n",
       "      <td>NaN</td>\n",
       "      <td>GAM</td>\n",
       "    </tr>\n",
       "    <tr>\n",
       "      <th>2</th>\n",
       "      <td>2015-01-03</td>\n",
       "      <td>76.0</td>\n",
       "      <td>NaN</td>\n",
       "      <td>27.9</td>\n",
       "      <td>11.80</td>\n",
       "      <td>2480.0</td>\n",
       "      <td>NaN</td>\n",
       "      <td>GAM</td>\n",
       "    </tr>\n",
       "    <tr>\n",
       "      <th>3</th>\n",
       "      <td>2015-01-04</td>\n",
       "      <td>24.4</td>\n",
       "      <td>NaN</td>\n",
       "      <td>18.7</td>\n",
       "      <td>6.08</td>\n",
       "      <td>1837.0</td>\n",
       "      <td>NaN</td>\n",
       "      <td>GAM</td>\n",
       "    </tr>\n",
       "    <tr>\n",
       "      <th>4</th>\n",
       "      <td>2015-01-05</td>\n",
       "      <td>37.3</td>\n",
       "      <td>NaN</td>\n",
       "      <td>19.7</td>\n",
       "      <td>10.30</td>\n",
       "      <td>2032.0</td>\n",
       "      <td>NaN</td>\n",
       "      <td>GAM</td>\n",
       "    </tr>\n",
       "    <tr>\n",
       "      <th>...</th>\n",
       "      <td>...</td>\n",
       "      <td>...</td>\n",
       "      <td>...</td>\n",
       "      <td>...</td>\n",
       "      <td>...</td>\n",
       "      <td>...</td>\n",
       "      <td>...</td>\n",
       "      <td>...</td>\n",
       "    </tr>\n",
       "    <tr>\n",
       "      <th>19393</th>\n",
       "      <td>2023-11-03</td>\n",
       "      <td>NaN</td>\n",
       "      <td>39.8</td>\n",
       "      <td>23.0</td>\n",
       "      <td>15.90</td>\n",
       "      <td>NaN</td>\n",
       "      <td>NaN</td>\n",
       "      <td>YAR</td>\n",
       "    </tr>\n",
       "    <tr>\n",
       "      <th>19394</th>\n",
       "      <td>2023-11-04</td>\n",
       "      <td>NaN</td>\n",
       "      <td>49.7</td>\n",
       "      <td>25.1</td>\n",
       "      <td>17.40</td>\n",
       "      <td>NaN</td>\n",
       "      <td>NaN</td>\n",
       "      <td>YAR</td>\n",
       "    </tr>\n",
       "    <tr>\n",
       "      <th>19395</th>\n",
       "      <td>2023-11-05</td>\n",
       "      <td>NaN</td>\n",
       "      <td>46.0</td>\n",
       "      <td>NaN</td>\n",
       "      <td>NaN</td>\n",
       "      <td>NaN</td>\n",
       "      <td>NaN</td>\n",
       "      <td>YAR</td>\n",
       "    </tr>\n",
       "    <tr>\n",
       "      <th>19396</th>\n",
       "      <td>2023-11-06</td>\n",
       "      <td>NaN</td>\n",
       "      <td>NaN</td>\n",
       "      <td>NaN</td>\n",
       "      <td>NaN</td>\n",
       "      <td>NaN</td>\n",
       "      <td>NaN</td>\n",
       "      <td>YAR</td>\n",
       "    </tr>\n",
       "    <tr>\n",
       "      <th>19397</th>\n",
       "      <td>2023-11-07</td>\n",
       "      <td>NaN</td>\n",
       "      <td>NaN</td>\n",
       "      <td>NaN</td>\n",
       "      <td>NaN</td>\n",
       "      <td>NaN</td>\n",
       "      <td>NaN</td>\n",
       "      <td>YAR</td>\n",
       "    </tr>\n",
       "  </tbody>\n",
       "</table>\n",
       "<p>19398 rows × 8 columns</p>\n",
       "</div>"
      ],
      "text/plain": [
       "            Date   PM10  PM2p5   NO2    SO2      CO  O3  Sta\n",
       "0     2015-01-01  124.0    NaN  41.7  28.20  2463.0 NaN  GAM\n",
       "1     2015-01-02  191.0    NaN  21.4   9.66  2126.0 NaN  GAM\n",
       "2     2015-01-03   76.0    NaN  27.9  11.80  2480.0 NaN  GAM\n",
       "3     2015-01-04   24.4    NaN  18.7   6.08  1837.0 NaN  GAM\n",
       "4     2015-01-05   37.3    NaN  19.7  10.30  2032.0 NaN  GAM\n",
       "...          ...    ...    ...   ...    ...     ...  ..  ...\n",
       "19393 2023-11-03    NaN   39.8  23.0  15.90     NaN NaN  YAR\n",
       "19394 2023-11-04    NaN   49.7  25.1  17.40     NaN NaN  YAR\n",
       "19395 2023-11-05    NaN   46.0   NaN    NaN     NaN NaN  YAR\n",
       "19396 2023-11-06    NaN    NaN   NaN    NaN     NaN NaN  YAR\n",
       "19397 2023-11-07    NaN    NaN   NaN    NaN     NaN NaN  YAR\n",
       "\n",
       "[19398 rows x 8 columns]"
      ]
     },
     "execution_count": 31,
     "metadata": {},
     "output_type": "execute_result"
    }
   ],
   "source": [
    "amm"
   ]
  },
  {
   "cell_type": "code",
   "execution_count": 32,
   "id": "d0401247",
   "metadata": {},
   "outputs": [],
   "source": [
    "amm = amm[(amm['Date'].dt.year >=2015) & (amm['Date'].dt.year <=2019)]\n",
    "irb = irb[(irb['Date'].dt.year >=2015) & (irb['Date'].dt.year <=2019)]\n",
    "zar = zar[(zar['Date'].dt.year >=2015) & (zar['Date'].dt.year <=2019)]"
   ]
  },
  {
   "cell_type": "code",
   "execution_count": 33,
   "id": "65981af6",
   "metadata": {},
   "outputs": [
    {
     "name": "stdout",
     "output_type": "stream",
     "text": [
      "582\n",
      "697\n",
      "493\n"
     ]
    }
   ],
   "source": [
    "print(len(amm[amm['PM10'].isna()]))\n",
    "print(len(irb[irb['PM10'].isna()]))\n",
    "print(len(zar[zar['PM10'].isna()]))"
   ]
  },
  {
   "cell_type": "code",
   "execution_count": 34,
   "id": "095639b7",
   "metadata": {},
   "outputs": [
    {
     "data": {
      "application/vnd.microsoft.datawrangler.viewer.v0+json": {
       "columns": [
        {
         "name": "index",
         "rawType": "int64",
         "type": "integer"
        },
        {
         "name": "Date",
         "rawType": "datetime64[ns]",
         "type": "datetime"
        },
        {
         "name": "PM10",
         "rawType": "float64",
         "type": "float"
        },
        {
         "name": "PM2p5",
         "rawType": "float64",
         "type": "float"
        },
        {
         "name": "NO2",
         "rawType": "float64",
         "type": "float"
        },
        {
         "name": "SO2",
         "rawType": "float64",
         "type": "float"
        },
        {
         "name": "CO",
         "rawType": "float64",
         "type": "float"
        },
        {
         "name": "O3",
         "rawType": "float64",
         "type": "float"
        },
        {
         "name": "Sta",
         "rawType": "object",
         "type": "string"
        }
       ],
       "ref": "a65de5d5-c7cc-4403-907c-bb0217bc6247",
       "rows": [
        [
         "0",
         "2015-01-01 00:00:00",
         null,
         null,
         "31.8",
         "21.8",
         "3362.0",
         null,
         "HAJ"
        ],
        [
         "1",
         "2015-01-02 00:00:00",
         null,
         null,
         "22.0",
         "4.9",
         "2624.0",
         null,
         "HAJ"
        ],
        [
         "2",
         "2015-01-03 00:00:00",
         "106.0",
         null,
         "26.2",
         "7.7",
         "2809.0",
         null,
         "HAJ"
        ],
        [
         "3",
         "2015-01-04 00:00:00",
         "46.0",
         null,
         "21.6",
         "4.92",
         "2460.0",
         null,
         "HAJ"
        ],
        [
         "4",
         "2015-01-05 00:00:00",
         "74.1",
         null,
         "25.8",
         "10.5",
         "2623.0",
         null,
         "HAJ"
        ],
        [
         "5",
         "2015-01-06 00:00:00",
         "89.7",
         null,
         "19.8",
         "8.18",
         "2461.0",
         null,
         "HAJ"
        ],
        [
         "6",
         "2015-01-07 00:00:00",
         "35.2",
         null,
         "10.9",
         "1.15",
         "2278.0",
         null,
         "HAJ"
        ],
        [
         "7",
         "2015-01-08 00:00:00",
         null,
         null,
         "11.5",
         "1.08",
         "2452.0",
         null,
         "HAJ"
        ],
        [
         "8",
         "2015-01-09 00:00:00",
         null,
         null,
         "26.6",
         "0.53",
         "2598.0",
         null,
         "HAJ"
        ],
        [
         "9",
         "2015-01-10 00:00:00",
         "38.9",
         null,
         "25.2",
         "2.96",
         "2605.0",
         null,
         "HAJ"
        ],
        [
         "10",
         "2015-01-11 00:00:00",
         "36.5",
         null,
         "22.9",
         "3.54",
         "2551.0",
         null,
         "HAJ"
        ],
        [
         "11",
         "2015-01-12 00:00:00",
         "17.7",
         null,
         "29.6",
         "1.2",
         "2417.0",
         null,
         "HAJ"
        ],
        [
         "12",
         "2015-01-13 00:00:00",
         "23.8",
         null,
         "32.4",
         "3.36",
         "2862.0",
         null,
         "HAJ"
        ],
        [
         "13",
         "2015-01-14 00:00:00",
         "115.0",
         null,
         "33.2",
         "12.8",
         "3946.0",
         null,
         "HAJ"
        ],
        [
         "14",
         "2015-01-15 00:00:00",
         "94.3",
         null,
         "30.3",
         "7.68",
         "3113.0",
         null,
         "HAJ"
        ],
        [
         "15",
         "2015-01-16 00:00:00",
         "69.8",
         null,
         "30.3",
         "5.25",
         "3086.0",
         null,
         "HAJ"
        ],
        [
         "16",
         "2015-01-17 00:00:00",
         "83.9",
         null,
         "36.8",
         "6.55",
         "4213.0",
         null,
         "HAJ"
        ],
        [
         "17",
         "2015-01-18 00:00:00",
         "124.0",
         null,
         "27.9",
         "10.9",
         "3884.0",
         null,
         "HAJ"
        ],
        [
         "18",
         "2015-01-19 00:00:00",
         "136.0",
         null,
         "22.7",
         "9.65",
         "3989.0",
         null,
         "HAJ"
        ],
        [
         "19",
         "2015-01-20 00:00:00",
         "150.0",
         null,
         "28.9",
         "21.2",
         "3803.0",
         null,
         "HAJ"
        ],
        [
         "20",
         "2015-01-21 00:00:00",
         "101.0",
         null,
         "36.8",
         "33.2",
         "5275.0",
         null,
         "HAJ"
        ],
        [
         "21",
         "2015-01-22 00:00:00",
         "140.8668324146525",
         null,
         "29.8",
         "12.1",
         "4765.0",
         null,
         "HAJ"
        ],
        [
         "22",
         "2015-01-23 00:00:00",
         "95.3",
         null,
         "28.2",
         "15.9",
         "3967.0",
         null,
         "HAJ"
        ],
        [
         "23",
         "2015-01-24 00:00:00",
         "65.1",
         null,
         "24.2",
         "26.6",
         "3760.0",
         null,
         "HAJ"
        ],
        [
         "24",
         "2015-01-25 00:00:00",
         "157.4649106845396",
         null,
         "27.3",
         "21.8",
         "4398.0",
         null,
         "HAJ"
        ],
        [
         "25",
         "2015-01-26 00:00:00",
         "134.75813505444236",
         null,
         "25.2",
         "21.8",
         "4337.0",
         null,
         "HAJ"
        ],
        [
         "26",
         "2015-01-27 00:00:00",
         "85.3",
         null,
         "28.2",
         "15.0",
         "4027.0",
         null,
         "HAJ"
        ],
        [
         "27",
         "2015-01-28 00:00:00",
         "130.0",
         null,
         "29.3",
         "14.7",
         "3662.0",
         null,
         "HAJ"
        ],
        [
         "28",
         "2015-01-29 00:00:00",
         "133.0",
         null,
         "36.6",
         "9.8",
         "3727.0",
         null,
         "HAJ"
        ],
        [
         "29",
         "2015-01-30 00:00:00",
         "122.0",
         null,
         "25.7",
         "17.0",
         "3613.0",
         null,
         "HAJ"
        ],
        [
         "30",
         "2015-01-31 00:00:00",
         "118.0",
         null,
         "20.2",
         "18.1",
         "3653.0",
         null,
         "HAJ"
        ],
        [
         "31",
         "2015-02-01 00:00:00",
         "89.8",
         null,
         "26.0",
         "28.2",
         "3923.0",
         null,
         "HAJ"
        ],
        [
         "32",
         "2015-02-02 00:00:00",
         "103.0",
         null,
         "35.7",
         "18.5",
         "4870.0",
         null,
         "HAJ"
        ],
        [
         "33",
         "2015-02-03 00:00:00",
         "168.0",
         null,
         "22.1",
         "8.03",
         "3952.0",
         null,
         "HAJ"
        ],
        [
         "34",
         "2015-02-04 00:00:00",
         "107.0",
         null,
         "24.0",
         "13.9",
         "3347.0",
         null,
         "HAJ"
        ],
        [
         "35",
         "2015-02-05 00:00:00",
         "63.9",
         null,
         "27.4",
         "13.5",
         "2922.0",
         null,
         "HAJ"
        ],
        [
         "36",
         "2015-02-06 00:00:00",
         "118.0",
         null,
         "13.6",
         "25.0",
         "2194.0",
         null,
         "HAJ"
        ],
        [
         "37",
         "2015-02-07 00:00:00",
         "175.0",
         null,
         "12.3",
         "6.02",
         "1574.0",
         null,
         "HAJ"
        ],
        [
         "38",
         "2015-02-08 00:00:00",
         "71.5",
         null,
         "19.3",
         "8.62",
         "809.0",
         null,
         "HAJ"
        ],
        [
         "39",
         "2015-02-09 00:00:00",
         "93.8",
         null,
         "23.7",
         "4.39",
         "1038.0",
         null,
         "HAJ"
        ],
        [
         "40",
         "2015-02-10 00:00:00",
         "102.0",
         null,
         "25.7",
         "2.33",
         "837.0",
         null,
         "HAJ"
        ],
        [
         "41",
         "2015-02-11 00:00:00",
         null,
         null,
         "23.0",
         "3.93",
         "641.0",
         null,
         "HAJ"
        ],
        [
         "42",
         "2015-02-12 00:00:00",
         null,
         null,
         "27.1",
         "2.12",
         "973.0",
         null,
         "HAJ"
        ],
        [
         "43",
         "2015-02-13 00:00:00",
         "71.8",
         null,
         "27.0",
         "6.34",
         "835.0",
         null,
         "HAJ"
        ],
        [
         "44",
         "2015-02-14 00:00:00",
         "62.1",
         null,
         "18.2",
         "4.63",
         "1097.0",
         null,
         "HAJ"
        ],
        [
         "45",
         "2015-02-15 00:00:00",
         "59.1",
         null,
         "20.5",
         "4.12",
         "1236.0",
         null,
         "HAJ"
        ],
        [
         "46",
         "2015-02-16 00:00:00",
         "62.7",
         null,
         "14.5",
         "4.3",
         "1232.0",
         null,
         "HAJ"
        ],
        [
         "47",
         "2015-02-17 00:00:00",
         "80.3",
         null,
         "21.4",
         "3.91",
         "1426.0",
         null,
         "HAJ"
        ],
        [
         "48",
         "2015-02-18 00:00:00",
         "65.1",
         null,
         "16.2",
         "0.6",
         "1323.0",
         null,
         "HAJ"
        ],
        [
         "49",
         "2015-02-19 00:00:00",
         "23.2",
         null,
         "13.8",
         "0.14",
         "895.0",
         null,
         "HAJ"
        ]
       ],
       "shape": {
        "columns": 8,
        "rows": 3652
       }
      },
      "text/html": [
       "<div>\n",
       "<style scoped>\n",
       "    .dataframe tbody tr th:only-of-type {\n",
       "        vertical-align: middle;\n",
       "    }\n",
       "\n",
       "    .dataframe tbody tr th {\n",
       "        vertical-align: top;\n",
       "    }\n",
       "\n",
       "    .dataframe thead th {\n",
       "        text-align: right;\n",
       "    }\n",
       "</style>\n",
       "<table border=\"1\" class=\"dataframe\">\n",
       "  <thead>\n",
       "    <tr style=\"text-align: right;\">\n",
       "      <th></th>\n",
       "      <th>Date</th>\n",
       "      <th>PM10</th>\n",
       "      <th>PM2p5</th>\n",
       "      <th>NO2</th>\n",
       "      <th>SO2</th>\n",
       "      <th>CO</th>\n",
       "      <th>O3</th>\n",
       "      <th>Sta</th>\n",
       "    </tr>\n",
       "  </thead>\n",
       "  <tbody>\n",
       "    <tr>\n",
       "      <th>0</th>\n",
       "      <td>2015-01-01</td>\n",
       "      <td>NaN</td>\n",
       "      <td>NaN</td>\n",
       "      <td>31.8</td>\n",
       "      <td>21.80</td>\n",
       "      <td>3362.0</td>\n",
       "      <td>NaN</td>\n",
       "      <td>HAJ</td>\n",
       "    </tr>\n",
       "    <tr>\n",
       "      <th>1</th>\n",
       "      <td>2015-01-02</td>\n",
       "      <td>NaN</td>\n",
       "      <td>NaN</td>\n",
       "      <td>22.0</td>\n",
       "      <td>4.90</td>\n",
       "      <td>2624.0</td>\n",
       "      <td>NaN</td>\n",
       "      <td>HAJ</td>\n",
       "    </tr>\n",
       "    <tr>\n",
       "      <th>2</th>\n",
       "      <td>2015-01-03</td>\n",
       "      <td>106.0</td>\n",
       "      <td>NaN</td>\n",
       "      <td>26.2</td>\n",
       "      <td>7.70</td>\n",
       "      <td>2809.0</td>\n",
       "      <td>NaN</td>\n",
       "      <td>HAJ</td>\n",
       "    </tr>\n",
       "    <tr>\n",
       "      <th>3</th>\n",
       "      <td>2015-01-04</td>\n",
       "      <td>46.0</td>\n",
       "      <td>NaN</td>\n",
       "      <td>21.6</td>\n",
       "      <td>4.92</td>\n",
       "      <td>2460.0</td>\n",
       "      <td>NaN</td>\n",
       "      <td>HAJ</td>\n",
       "    </tr>\n",
       "    <tr>\n",
       "      <th>4</th>\n",
       "      <td>2015-01-05</td>\n",
       "      <td>74.1</td>\n",
       "      <td>NaN</td>\n",
       "      <td>25.8</td>\n",
       "      <td>10.50</td>\n",
       "      <td>2623.0</td>\n",
       "      <td>NaN</td>\n",
       "      <td>HAJ</td>\n",
       "    </tr>\n",
       "    <tr>\n",
       "      <th>...</th>\n",
       "      <td>...</td>\n",
       "      <td>...</td>\n",
       "      <td>...</td>\n",
       "      <td>...</td>\n",
       "      <td>...</td>\n",
       "      <td>...</td>\n",
       "      <td>...</td>\n",
       "      <td>...</td>\n",
       "    </tr>\n",
       "    <tr>\n",
       "      <th>5054</th>\n",
       "      <td>2019-12-27</td>\n",
       "      <td>43.1</td>\n",
       "      <td>NaN</td>\n",
       "      <td>14.7</td>\n",
       "      <td>3.54</td>\n",
       "      <td>NaN</td>\n",
       "      <td>NaN</td>\n",
       "      <td>MAS</td>\n",
       "    </tr>\n",
       "    <tr>\n",
       "      <th>5055</th>\n",
       "      <td>2019-12-28</td>\n",
       "      <td>22.6</td>\n",
       "      <td>NaN</td>\n",
       "      <td>20.6</td>\n",
       "      <td>3.62</td>\n",
       "      <td>NaN</td>\n",
       "      <td>NaN</td>\n",
       "      <td>MAS</td>\n",
       "    </tr>\n",
       "    <tr>\n",
       "      <th>5056</th>\n",
       "      <td>2019-12-29</td>\n",
       "      <td>70.0</td>\n",
       "      <td>NaN</td>\n",
       "      <td>29.0</td>\n",
       "      <td>4.05</td>\n",
       "      <td>NaN</td>\n",
       "      <td>NaN</td>\n",
       "      <td>MAS</td>\n",
       "    </tr>\n",
       "    <tr>\n",
       "      <th>5057</th>\n",
       "      <td>2019-12-30</td>\n",
       "      <td>81.2</td>\n",
       "      <td>NaN</td>\n",
       "      <td>29.0</td>\n",
       "      <td>4.07</td>\n",
       "      <td>NaN</td>\n",
       "      <td>NaN</td>\n",
       "      <td>MAS</td>\n",
       "    </tr>\n",
       "    <tr>\n",
       "      <th>5058</th>\n",
       "      <td>2019-12-31</td>\n",
       "      <td>95.8</td>\n",
       "      <td>NaN</td>\n",
       "      <td>35.1</td>\n",
       "      <td>4.28</td>\n",
       "      <td>NaN</td>\n",
       "      <td>NaN</td>\n",
       "      <td>MAS</td>\n",
       "    </tr>\n",
       "  </tbody>\n",
       "</table>\n",
       "<p>3652 rows × 8 columns</p>\n",
       "</div>"
      ],
      "text/plain": [
       "           Date   PM10  PM2p5   NO2    SO2      CO  O3  Sta\n",
       "0    2015-01-01    NaN    NaN  31.8  21.80  3362.0 NaN  HAJ\n",
       "1    2015-01-02    NaN    NaN  22.0   4.90  2624.0 NaN  HAJ\n",
       "2    2015-01-03  106.0    NaN  26.2   7.70  2809.0 NaN  HAJ\n",
       "3    2015-01-04   46.0    NaN  21.6   4.92  2460.0 NaN  HAJ\n",
       "4    2015-01-05   74.1    NaN  25.8  10.50  2623.0 NaN  HAJ\n",
       "...         ...    ...    ...   ...    ...     ...  ..  ...\n",
       "5054 2019-12-27   43.1    NaN  14.7   3.54     NaN NaN  MAS\n",
       "5055 2019-12-28   22.6    NaN  20.6   3.62     NaN NaN  MAS\n",
       "5056 2019-12-29   70.0    NaN  29.0   4.05     NaN NaN  MAS\n",
       "5057 2019-12-30   81.2    NaN  29.0   4.07     NaN NaN  MAS\n",
       "5058 2019-12-31   95.8    NaN  35.1   4.28     NaN NaN  MAS\n",
       "\n",
       "[3652 rows x 8 columns]"
      ]
     },
     "execution_count": 34,
     "metadata": {},
     "output_type": "execute_result"
    }
   ],
   "source": [
    "impute(amm, 'PM10')\n",
    "impute(irb, 'PM10')\n",
    "impute(zar, 'PM10')"
   ]
  },
  {
   "cell_type": "code",
   "execution_count": 35,
   "id": "590ebb12",
   "metadata": {},
   "outputs": [
    {
     "name": "stdout",
     "output_type": "stream",
     "text": [
      "204\n",
      "411\n",
      "146\n"
     ]
    }
   ],
   "source": [
    "print(len(amm[amm['PM10'].isna()]))\n",
    "print(len(irb[irb['PM10'].isna()]))\n",
    "print(len(zar[zar['PM10'].isna()]))"
   ]
  },
  {
   "cell_type": "code",
   "execution_count": 36,
   "id": "27ff1064",
   "metadata": {},
   "outputs": [
    {
     "name": "stdout",
     "output_type": "stream",
     "text": [
      "573\n",
      "188\n",
      "140\n"
     ]
    }
   ],
   "source": [
    "print(len(amm[amm['NO2'].isna()]))\n",
    "print(len(irb[irb['NO2'].isna()]))\n",
    "print(len(zar[zar['NO2'].isna()]))"
   ]
  },
  {
   "cell_type": "code",
   "execution_count": 37,
   "id": "85d601f2",
   "metadata": {},
   "outputs": [
    {
     "data": {
      "application/vnd.microsoft.datawrangler.viewer.v0+json": {
       "columns": [
        {
         "name": "index",
         "rawType": "int64",
         "type": "integer"
        },
        {
         "name": "Date",
         "rawType": "datetime64[ns]",
         "type": "datetime"
        },
        {
         "name": "PM10",
         "rawType": "float64",
         "type": "float"
        },
        {
         "name": "PM2p5",
         "rawType": "float64",
         "type": "float"
        },
        {
         "name": "NO2",
         "rawType": "float64",
         "type": "float"
        },
        {
         "name": "SO2",
         "rawType": "float64",
         "type": "float"
        },
        {
         "name": "CO",
         "rawType": "float64",
         "type": "float"
        },
        {
         "name": "O3",
         "rawType": "float64",
         "type": "float"
        },
        {
         "name": "Sta",
         "rawType": "object",
         "type": "string"
        }
       ],
       "ref": "de9e55b1-5145-4959-be0a-2068fc51c78b",
       "rows": [
        [
         "0",
         "2015-01-01 00:00:00",
         null,
         null,
         "31.8",
         "21.8",
         "3362.0",
         null,
         "HAJ"
        ],
        [
         "1",
         "2015-01-02 00:00:00",
         null,
         null,
         "22.0",
         "4.9",
         "2624.0",
         null,
         "HAJ"
        ],
        [
         "2",
         "2015-01-03 00:00:00",
         "106.0",
         null,
         "26.2",
         "7.7",
         "2809.0",
         null,
         "HAJ"
        ],
        [
         "3",
         "2015-01-04 00:00:00",
         "46.0",
         null,
         "21.6",
         "4.92",
         "2460.0",
         null,
         "HAJ"
        ],
        [
         "4",
         "2015-01-05 00:00:00",
         "74.1",
         null,
         "25.8",
         "10.5",
         "2623.0",
         null,
         "HAJ"
        ],
        [
         "5",
         "2015-01-06 00:00:00",
         "89.7",
         null,
         "19.8",
         "8.18",
         "2461.0",
         null,
         "HAJ"
        ],
        [
         "6",
         "2015-01-07 00:00:00",
         "35.2",
         null,
         "10.9",
         "1.15",
         "2278.0",
         null,
         "HAJ"
        ],
        [
         "7",
         "2015-01-08 00:00:00",
         null,
         null,
         "11.5",
         "1.08",
         "2452.0",
         null,
         "HAJ"
        ],
        [
         "8",
         "2015-01-09 00:00:00",
         null,
         null,
         "26.6",
         "0.53",
         "2598.0",
         null,
         "HAJ"
        ],
        [
         "9",
         "2015-01-10 00:00:00",
         "38.9",
         null,
         "25.2",
         "2.96",
         "2605.0",
         null,
         "HAJ"
        ],
        [
         "10",
         "2015-01-11 00:00:00",
         "36.5",
         null,
         "22.9",
         "3.54",
         "2551.0",
         null,
         "HAJ"
        ],
        [
         "11",
         "2015-01-12 00:00:00",
         "17.7",
         null,
         "29.6",
         "1.2",
         "2417.0",
         null,
         "HAJ"
        ],
        [
         "12",
         "2015-01-13 00:00:00",
         "23.8",
         null,
         "32.4",
         "3.36",
         "2862.0",
         null,
         "HAJ"
        ],
        [
         "13",
         "2015-01-14 00:00:00",
         "115.0",
         null,
         "33.2",
         "12.8",
         "3946.0",
         null,
         "HAJ"
        ],
        [
         "14",
         "2015-01-15 00:00:00",
         "94.3",
         null,
         "30.3",
         "7.68",
         "3113.0",
         null,
         "HAJ"
        ],
        [
         "15",
         "2015-01-16 00:00:00",
         "69.8",
         null,
         "30.3",
         "5.25",
         "3086.0",
         null,
         "HAJ"
        ],
        [
         "16",
         "2015-01-17 00:00:00",
         "83.9",
         null,
         "36.8",
         "6.55",
         "4213.0",
         null,
         "HAJ"
        ],
        [
         "17",
         "2015-01-18 00:00:00",
         "124.0",
         null,
         "27.9",
         "10.9",
         "3884.0",
         null,
         "HAJ"
        ],
        [
         "18",
         "2015-01-19 00:00:00",
         "136.0",
         null,
         "22.7",
         "9.65",
         "3989.0",
         null,
         "HAJ"
        ],
        [
         "19",
         "2015-01-20 00:00:00",
         "150.0",
         null,
         "28.9",
         "21.2",
         "3803.0",
         null,
         "HAJ"
        ],
        [
         "20",
         "2015-01-21 00:00:00",
         "101.0",
         null,
         "36.8",
         "33.2",
         "5275.0",
         null,
         "HAJ"
        ],
        [
         "21",
         "2015-01-22 00:00:00",
         "140.8668324146525",
         null,
         "29.8",
         "12.1",
         "4765.0",
         null,
         "HAJ"
        ],
        [
         "22",
         "2015-01-23 00:00:00",
         "95.3",
         null,
         "28.2",
         "15.9",
         "3967.0",
         null,
         "HAJ"
        ],
        [
         "23",
         "2015-01-24 00:00:00",
         "65.1",
         null,
         "24.2",
         "26.6",
         "3760.0",
         null,
         "HAJ"
        ],
        [
         "24",
         "2015-01-25 00:00:00",
         "157.4649106845396",
         null,
         "27.3",
         "21.8",
         "4398.0",
         null,
         "HAJ"
        ],
        [
         "25",
         "2015-01-26 00:00:00",
         "134.75813505444236",
         null,
         "25.2",
         "21.8",
         "4337.0",
         null,
         "HAJ"
        ],
        [
         "26",
         "2015-01-27 00:00:00",
         "85.3",
         null,
         "28.2",
         "15.0",
         "4027.0",
         null,
         "HAJ"
        ],
        [
         "27",
         "2015-01-28 00:00:00",
         "130.0",
         null,
         "29.3",
         "14.7",
         "3662.0",
         null,
         "HAJ"
        ],
        [
         "28",
         "2015-01-29 00:00:00",
         "133.0",
         null,
         "36.6",
         "9.8",
         "3727.0",
         null,
         "HAJ"
        ],
        [
         "29",
         "2015-01-30 00:00:00",
         "122.0",
         null,
         "25.7",
         "17.0",
         "3613.0",
         null,
         "HAJ"
        ],
        [
         "30",
         "2015-01-31 00:00:00",
         "118.0",
         null,
         "20.2",
         "18.1",
         "3653.0",
         null,
         "HAJ"
        ],
        [
         "31",
         "2015-02-01 00:00:00",
         "89.8",
         null,
         "26.0",
         "28.2",
         "3923.0",
         null,
         "HAJ"
        ],
        [
         "32",
         "2015-02-02 00:00:00",
         "103.0",
         null,
         "35.7",
         "18.5",
         "4870.0",
         null,
         "HAJ"
        ],
        [
         "33",
         "2015-02-03 00:00:00",
         "168.0",
         null,
         "22.1",
         "8.03",
         "3952.0",
         null,
         "HAJ"
        ],
        [
         "34",
         "2015-02-04 00:00:00",
         "107.0",
         null,
         "24.0",
         "13.9",
         "3347.0",
         null,
         "HAJ"
        ],
        [
         "35",
         "2015-02-05 00:00:00",
         "63.9",
         null,
         "27.4",
         "13.5",
         "2922.0",
         null,
         "HAJ"
        ],
        [
         "36",
         "2015-02-06 00:00:00",
         "118.0",
         null,
         "13.6",
         "25.0",
         "2194.0",
         null,
         "HAJ"
        ],
        [
         "37",
         "2015-02-07 00:00:00",
         "175.0",
         null,
         "12.3",
         "6.02",
         "1574.0",
         null,
         "HAJ"
        ],
        [
         "38",
         "2015-02-08 00:00:00",
         "71.5",
         null,
         "19.3",
         "8.62",
         "809.0",
         null,
         "HAJ"
        ],
        [
         "39",
         "2015-02-09 00:00:00",
         "93.8",
         null,
         "23.7",
         "4.39",
         "1038.0",
         null,
         "HAJ"
        ],
        [
         "40",
         "2015-02-10 00:00:00",
         "102.0",
         null,
         "25.7",
         "2.33",
         "837.0",
         null,
         "HAJ"
        ],
        [
         "41",
         "2015-02-11 00:00:00",
         null,
         null,
         "23.0",
         "3.93",
         "641.0",
         null,
         "HAJ"
        ],
        [
         "42",
         "2015-02-12 00:00:00",
         null,
         null,
         "27.1",
         "2.12",
         "973.0",
         null,
         "HAJ"
        ],
        [
         "43",
         "2015-02-13 00:00:00",
         "71.8",
         null,
         "27.0",
         "6.34",
         "835.0",
         null,
         "HAJ"
        ],
        [
         "44",
         "2015-02-14 00:00:00",
         "62.1",
         null,
         "18.2",
         "4.63",
         "1097.0",
         null,
         "HAJ"
        ],
        [
         "45",
         "2015-02-15 00:00:00",
         "59.1",
         null,
         "20.5",
         "4.12",
         "1236.0",
         null,
         "HAJ"
        ],
        [
         "46",
         "2015-02-16 00:00:00",
         "62.7",
         null,
         "14.5",
         "4.3",
         "1232.0",
         null,
         "HAJ"
        ],
        [
         "47",
         "2015-02-17 00:00:00",
         "80.3",
         null,
         "21.4",
         "3.91",
         "1426.0",
         null,
         "HAJ"
        ],
        [
         "48",
         "2015-02-18 00:00:00",
         "65.1",
         null,
         "16.2",
         "0.6",
         "1323.0",
         null,
         "HAJ"
        ],
        [
         "49",
         "2015-02-19 00:00:00",
         "23.2",
         null,
         "13.8",
         "0.14",
         "895.0",
         null,
         "HAJ"
        ]
       ],
       "shape": {
        "columns": 8,
        "rows": 3652
       }
      },
      "text/html": [
       "<div>\n",
       "<style scoped>\n",
       "    .dataframe tbody tr th:only-of-type {\n",
       "        vertical-align: middle;\n",
       "    }\n",
       "\n",
       "    .dataframe tbody tr th {\n",
       "        vertical-align: top;\n",
       "    }\n",
       "\n",
       "    .dataframe thead th {\n",
       "        text-align: right;\n",
       "    }\n",
       "</style>\n",
       "<table border=\"1\" class=\"dataframe\">\n",
       "  <thead>\n",
       "    <tr style=\"text-align: right;\">\n",
       "      <th></th>\n",
       "      <th>Date</th>\n",
       "      <th>PM10</th>\n",
       "      <th>PM2p5</th>\n",
       "      <th>NO2</th>\n",
       "      <th>SO2</th>\n",
       "      <th>CO</th>\n",
       "      <th>O3</th>\n",
       "      <th>Sta</th>\n",
       "    </tr>\n",
       "  </thead>\n",
       "  <tbody>\n",
       "    <tr>\n",
       "      <th>0</th>\n",
       "      <td>2015-01-01</td>\n",
       "      <td>NaN</td>\n",
       "      <td>NaN</td>\n",
       "      <td>31.8</td>\n",
       "      <td>21.80</td>\n",
       "      <td>3362.0</td>\n",
       "      <td>NaN</td>\n",
       "      <td>HAJ</td>\n",
       "    </tr>\n",
       "    <tr>\n",
       "      <th>1</th>\n",
       "      <td>2015-01-02</td>\n",
       "      <td>NaN</td>\n",
       "      <td>NaN</td>\n",
       "      <td>22.0</td>\n",
       "      <td>4.90</td>\n",
       "      <td>2624.0</td>\n",
       "      <td>NaN</td>\n",
       "      <td>HAJ</td>\n",
       "    </tr>\n",
       "    <tr>\n",
       "      <th>2</th>\n",
       "      <td>2015-01-03</td>\n",
       "      <td>106.0</td>\n",
       "      <td>NaN</td>\n",
       "      <td>26.2</td>\n",
       "      <td>7.70</td>\n",
       "      <td>2809.0</td>\n",
       "      <td>NaN</td>\n",
       "      <td>HAJ</td>\n",
       "    </tr>\n",
       "    <tr>\n",
       "      <th>3</th>\n",
       "      <td>2015-01-04</td>\n",
       "      <td>46.0</td>\n",
       "      <td>NaN</td>\n",
       "      <td>21.6</td>\n",
       "      <td>4.92</td>\n",
       "      <td>2460.0</td>\n",
       "      <td>NaN</td>\n",
       "      <td>HAJ</td>\n",
       "    </tr>\n",
       "    <tr>\n",
       "      <th>4</th>\n",
       "      <td>2015-01-05</td>\n",
       "      <td>74.1</td>\n",
       "      <td>NaN</td>\n",
       "      <td>25.8</td>\n",
       "      <td>10.50</td>\n",
       "      <td>2623.0</td>\n",
       "      <td>NaN</td>\n",
       "      <td>HAJ</td>\n",
       "    </tr>\n",
       "    <tr>\n",
       "      <th>...</th>\n",
       "      <td>...</td>\n",
       "      <td>...</td>\n",
       "      <td>...</td>\n",
       "      <td>...</td>\n",
       "      <td>...</td>\n",
       "      <td>...</td>\n",
       "      <td>...</td>\n",
       "      <td>...</td>\n",
       "    </tr>\n",
       "    <tr>\n",
       "      <th>5054</th>\n",
       "      <td>2019-12-27</td>\n",
       "      <td>43.1</td>\n",
       "      <td>NaN</td>\n",
       "      <td>14.7</td>\n",
       "      <td>3.54</td>\n",
       "      <td>NaN</td>\n",
       "      <td>NaN</td>\n",
       "      <td>MAS</td>\n",
       "    </tr>\n",
       "    <tr>\n",
       "      <th>5055</th>\n",
       "      <td>2019-12-28</td>\n",
       "      <td>22.6</td>\n",
       "      <td>NaN</td>\n",
       "      <td>20.6</td>\n",
       "      <td>3.62</td>\n",
       "      <td>NaN</td>\n",
       "      <td>NaN</td>\n",
       "      <td>MAS</td>\n",
       "    </tr>\n",
       "    <tr>\n",
       "      <th>5056</th>\n",
       "      <td>2019-12-29</td>\n",
       "      <td>70.0</td>\n",
       "      <td>NaN</td>\n",
       "      <td>29.0</td>\n",
       "      <td>4.05</td>\n",
       "      <td>NaN</td>\n",
       "      <td>NaN</td>\n",
       "      <td>MAS</td>\n",
       "    </tr>\n",
       "    <tr>\n",
       "      <th>5057</th>\n",
       "      <td>2019-12-30</td>\n",
       "      <td>81.2</td>\n",
       "      <td>NaN</td>\n",
       "      <td>29.0</td>\n",
       "      <td>4.07</td>\n",
       "      <td>NaN</td>\n",
       "      <td>NaN</td>\n",
       "      <td>MAS</td>\n",
       "    </tr>\n",
       "    <tr>\n",
       "      <th>5058</th>\n",
       "      <td>2019-12-31</td>\n",
       "      <td>95.8</td>\n",
       "      <td>NaN</td>\n",
       "      <td>35.1</td>\n",
       "      <td>4.28</td>\n",
       "      <td>NaN</td>\n",
       "      <td>NaN</td>\n",
       "      <td>MAS</td>\n",
       "    </tr>\n",
       "  </tbody>\n",
       "</table>\n",
       "<p>3652 rows × 8 columns</p>\n",
       "</div>"
      ],
      "text/plain": [
       "           Date   PM10  PM2p5   NO2    SO2      CO  O3  Sta\n",
       "0    2015-01-01    NaN    NaN  31.8  21.80  3362.0 NaN  HAJ\n",
       "1    2015-01-02    NaN    NaN  22.0   4.90  2624.0 NaN  HAJ\n",
       "2    2015-01-03  106.0    NaN  26.2   7.70  2809.0 NaN  HAJ\n",
       "3    2015-01-04   46.0    NaN  21.6   4.92  2460.0 NaN  HAJ\n",
       "4    2015-01-05   74.1    NaN  25.8  10.50  2623.0 NaN  HAJ\n",
       "...         ...    ...    ...   ...    ...     ...  ..  ...\n",
       "5054 2019-12-27   43.1    NaN  14.7   3.54     NaN NaN  MAS\n",
       "5055 2019-12-28   22.6    NaN  20.6   3.62     NaN NaN  MAS\n",
       "5056 2019-12-29   70.0    NaN  29.0   4.05     NaN NaN  MAS\n",
       "5057 2019-12-30   81.2    NaN  29.0   4.07     NaN NaN  MAS\n",
       "5058 2019-12-31   95.8    NaN  35.1   4.28     NaN NaN  MAS\n",
       "\n",
       "[3652 rows x 8 columns]"
      ]
     },
     "execution_count": 37,
     "metadata": {},
     "output_type": "execute_result"
    }
   ],
   "source": [
    "impute(amm, 'NO2')\n",
    "impute(irb, 'NO2')\n",
    "impute(zar, 'NO2')"
   ]
  },
  {
   "cell_type": "code",
   "execution_count": 38,
   "id": "4ce429ac",
   "metadata": {},
   "outputs": [
    {
     "name": "stdout",
     "output_type": "stream",
     "text": [
      "192\n",
      "66\n",
      "62\n"
     ]
    }
   ],
   "source": [
    "print(len(amm[amm['NO2'].isna()]))\n",
    "print(len(irb[irb['NO2'].isna()]))\n",
    "print(len(zar[zar['NO2'].isna()]))"
   ]
  },
  {
   "cell_type": "code",
   "execution_count": 39,
   "id": "36e5adfd",
   "metadata": {},
   "outputs": [
    {
     "name": "stdout",
     "output_type": "stream",
     "text": [
      "4195\n",
      "1923\n",
      "135\n"
     ]
    }
   ],
   "source": [
    "print(len(amm[amm['SO2'].isna()]))\n",
    "print(len(irb[irb['SO2'].isna()]))\n",
    "print(len(zar[zar['SO2'].isna()]))"
   ]
  },
  {
   "cell_type": "code",
   "execution_count": 40,
   "id": "9858fb58",
   "metadata": {},
   "outputs": [
    {
     "data": {
      "application/vnd.microsoft.datawrangler.viewer.v0+json": {
       "columns": [
        {
         "name": "index",
         "rawType": "int64",
         "type": "integer"
        },
        {
         "name": "Date",
         "rawType": "datetime64[ns]",
         "type": "datetime"
        },
        {
         "name": "PM10",
         "rawType": "float64",
         "type": "float"
        },
        {
         "name": "PM2p5",
         "rawType": "float64",
         "type": "float"
        },
        {
         "name": "NO2",
         "rawType": "float64",
         "type": "float"
        },
        {
         "name": "SO2",
         "rawType": "float64",
         "type": "float"
        },
        {
         "name": "CO",
         "rawType": "float64",
         "type": "float"
        },
        {
         "name": "O3",
         "rawType": "float64",
         "type": "float"
        },
        {
         "name": "Sta",
         "rawType": "object",
         "type": "string"
        }
       ],
       "ref": "fc05b1a8-3983-4e0a-88c3-9599777b5b65",
       "rows": [
        [
         "0",
         "2015-01-01 00:00:00",
         null,
         null,
         "31.8",
         "21.8",
         "3362.0",
         null,
         "HAJ"
        ],
        [
         "1",
         "2015-01-02 00:00:00",
         null,
         null,
         "22.0",
         "4.9",
         "2624.0",
         null,
         "HAJ"
        ],
        [
         "2",
         "2015-01-03 00:00:00",
         "106.0",
         null,
         "26.2",
         "7.7",
         "2809.0",
         null,
         "HAJ"
        ],
        [
         "3",
         "2015-01-04 00:00:00",
         "46.0",
         null,
         "21.6",
         "4.92",
         "2460.0",
         null,
         "HAJ"
        ],
        [
         "4",
         "2015-01-05 00:00:00",
         "74.1",
         null,
         "25.8",
         "10.5",
         "2623.0",
         null,
         "HAJ"
        ],
        [
         "5",
         "2015-01-06 00:00:00",
         "89.7",
         null,
         "19.8",
         "8.18",
         "2461.0",
         null,
         "HAJ"
        ],
        [
         "6",
         "2015-01-07 00:00:00",
         "35.2",
         null,
         "10.9",
         "1.15",
         "2278.0",
         null,
         "HAJ"
        ],
        [
         "7",
         "2015-01-08 00:00:00",
         null,
         null,
         "11.5",
         "1.08",
         "2452.0",
         null,
         "HAJ"
        ],
        [
         "8",
         "2015-01-09 00:00:00",
         null,
         null,
         "26.6",
         "0.53",
         "2598.0",
         null,
         "HAJ"
        ],
        [
         "9",
         "2015-01-10 00:00:00",
         "38.9",
         null,
         "25.2",
         "2.96",
         "2605.0",
         null,
         "HAJ"
        ],
        [
         "10",
         "2015-01-11 00:00:00",
         "36.5",
         null,
         "22.9",
         "3.54",
         "2551.0",
         null,
         "HAJ"
        ],
        [
         "11",
         "2015-01-12 00:00:00",
         "17.7",
         null,
         "29.6",
         "1.2",
         "2417.0",
         null,
         "HAJ"
        ],
        [
         "12",
         "2015-01-13 00:00:00",
         "23.8",
         null,
         "32.4",
         "3.36",
         "2862.0",
         null,
         "HAJ"
        ],
        [
         "13",
         "2015-01-14 00:00:00",
         "115.0",
         null,
         "33.2",
         "12.8",
         "3946.0",
         null,
         "HAJ"
        ],
        [
         "14",
         "2015-01-15 00:00:00",
         "94.3",
         null,
         "30.3",
         "7.68",
         "3113.0",
         null,
         "HAJ"
        ],
        [
         "15",
         "2015-01-16 00:00:00",
         "69.8",
         null,
         "30.3",
         "5.25",
         "3086.0",
         null,
         "HAJ"
        ],
        [
         "16",
         "2015-01-17 00:00:00",
         "83.9",
         null,
         "36.8",
         "6.55",
         "4213.0",
         null,
         "HAJ"
        ],
        [
         "17",
         "2015-01-18 00:00:00",
         "124.0",
         null,
         "27.9",
         "10.9",
         "3884.0",
         null,
         "HAJ"
        ],
        [
         "18",
         "2015-01-19 00:00:00",
         "136.0",
         null,
         "22.7",
         "9.65",
         "3989.0",
         null,
         "HAJ"
        ],
        [
         "19",
         "2015-01-20 00:00:00",
         "150.0",
         null,
         "28.9",
         "21.2",
         "3803.0",
         null,
         "HAJ"
        ],
        [
         "20",
         "2015-01-21 00:00:00",
         "101.0",
         null,
         "36.8",
         "33.2",
         "5275.0",
         null,
         "HAJ"
        ],
        [
         "21",
         "2015-01-22 00:00:00",
         "140.8668324146525",
         null,
         "29.8",
         "12.1",
         "4765.0",
         null,
         "HAJ"
        ],
        [
         "22",
         "2015-01-23 00:00:00",
         "95.3",
         null,
         "28.2",
         "15.9",
         "3967.0",
         null,
         "HAJ"
        ],
        [
         "23",
         "2015-01-24 00:00:00",
         "65.1",
         null,
         "24.2",
         "26.6",
         "3760.0",
         null,
         "HAJ"
        ],
        [
         "24",
         "2015-01-25 00:00:00",
         "157.4649106845396",
         null,
         "27.3",
         "21.8",
         "4398.0",
         null,
         "HAJ"
        ],
        [
         "25",
         "2015-01-26 00:00:00",
         "134.75813505444236",
         null,
         "25.2",
         "21.8",
         "4337.0",
         null,
         "HAJ"
        ],
        [
         "26",
         "2015-01-27 00:00:00",
         "85.3",
         null,
         "28.2",
         "15.0",
         "4027.0",
         null,
         "HAJ"
        ],
        [
         "27",
         "2015-01-28 00:00:00",
         "130.0",
         null,
         "29.3",
         "14.7",
         "3662.0",
         null,
         "HAJ"
        ],
        [
         "28",
         "2015-01-29 00:00:00",
         "133.0",
         null,
         "36.6",
         "9.8",
         "3727.0",
         null,
         "HAJ"
        ],
        [
         "29",
         "2015-01-30 00:00:00",
         "122.0",
         null,
         "25.7",
         "17.0",
         "3613.0",
         null,
         "HAJ"
        ],
        [
         "30",
         "2015-01-31 00:00:00",
         "118.0",
         null,
         "20.2",
         "18.1",
         "3653.0",
         null,
         "HAJ"
        ],
        [
         "31",
         "2015-02-01 00:00:00",
         "89.8",
         null,
         "26.0",
         "28.2",
         "3923.0",
         null,
         "HAJ"
        ],
        [
         "32",
         "2015-02-02 00:00:00",
         "103.0",
         null,
         "35.7",
         "18.5",
         "4870.0",
         null,
         "HAJ"
        ],
        [
         "33",
         "2015-02-03 00:00:00",
         "168.0",
         null,
         "22.1",
         "8.03",
         "3952.0",
         null,
         "HAJ"
        ],
        [
         "34",
         "2015-02-04 00:00:00",
         "107.0",
         null,
         "24.0",
         "13.9",
         "3347.0",
         null,
         "HAJ"
        ],
        [
         "35",
         "2015-02-05 00:00:00",
         "63.9",
         null,
         "27.4",
         "13.5",
         "2922.0",
         null,
         "HAJ"
        ],
        [
         "36",
         "2015-02-06 00:00:00",
         "118.0",
         null,
         "13.6",
         "25.0",
         "2194.0",
         null,
         "HAJ"
        ],
        [
         "37",
         "2015-02-07 00:00:00",
         "175.0",
         null,
         "12.3",
         "6.02",
         "1574.0",
         null,
         "HAJ"
        ],
        [
         "38",
         "2015-02-08 00:00:00",
         "71.5",
         null,
         "19.3",
         "8.62",
         "809.0",
         null,
         "HAJ"
        ],
        [
         "39",
         "2015-02-09 00:00:00",
         "93.8",
         null,
         "23.7",
         "4.39",
         "1038.0",
         null,
         "HAJ"
        ],
        [
         "40",
         "2015-02-10 00:00:00",
         "102.0",
         null,
         "25.7",
         "2.33",
         "837.0",
         null,
         "HAJ"
        ],
        [
         "41",
         "2015-02-11 00:00:00",
         null,
         null,
         "23.0",
         "3.93",
         "641.0",
         null,
         "HAJ"
        ],
        [
         "42",
         "2015-02-12 00:00:00",
         null,
         null,
         "27.1",
         "2.12",
         "973.0",
         null,
         "HAJ"
        ],
        [
         "43",
         "2015-02-13 00:00:00",
         "71.8",
         null,
         "27.0",
         "6.34",
         "835.0",
         null,
         "HAJ"
        ],
        [
         "44",
         "2015-02-14 00:00:00",
         "62.1",
         null,
         "18.2",
         "4.63",
         "1097.0",
         null,
         "HAJ"
        ],
        [
         "45",
         "2015-02-15 00:00:00",
         "59.1",
         null,
         "20.5",
         "4.12",
         "1236.0",
         null,
         "HAJ"
        ],
        [
         "46",
         "2015-02-16 00:00:00",
         "62.7",
         null,
         "14.5",
         "4.3",
         "1232.0",
         null,
         "HAJ"
        ],
        [
         "47",
         "2015-02-17 00:00:00",
         "80.3",
         null,
         "21.4",
         "3.91",
         "1426.0",
         null,
         "HAJ"
        ],
        [
         "48",
         "2015-02-18 00:00:00",
         "65.1",
         null,
         "16.2",
         "0.6",
         "1323.0",
         null,
         "HAJ"
        ],
        [
         "49",
         "2015-02-19 00:00:00",
         "23.2",
         null,
         "13.8",
         "0.14",
         "895.0",
         null,
         "HAJ"
        ]
       ],
       "shape": {
        "columns": 8,
        "rows": 3652
       }
      },
      "text/html": [
       "<div>\n",
       "<style scoped>\n",
       "    .dataframe tbody tr th:only-of-type {\n",
       "        vertical-align: middle;\n",
       "    }\n",
       "\n",
       "    .dataframe tbody tr th {\n",
       "        vertical-align: top;\n",
       "    }\n",
       "\n",
       "    .dataframe thead th {\n",
       "        text-align: right;\n",
       "    }\n",
       "</style>\n",
       "<table border=\"1\" class=\"dataframe\">\n",
       "  <thead>\n",
       "    <tr style=\"text-align: right;\">\n",
       "      <th></th>\n",
       "      <th>Date</th>\n",
       "      <th>PM10</th>\n",
       "      <th>PM2p5</th>\n",
       "      <th>NO2</th>\n",
       "      <th>SO2</th>\n",
       "      <th>CO</th>\n",
       "      <th>O3</th>\n",
       "      <th>Sta</th>\n",
       "    </tr>\n",
       "  </thead>\n",
       "  <tbody>\n",
       "    <tr>\n",
       "      <th>0</th>\n",
       "      <td>2015-01-01</td>\n",
       "      <td>NaN</td>\n",
       "      <td>NaN</td>\n",
       "      <td>31.8</td>\n",
       "      <td>21.80</td>\n",
       "      <td>3362.0</td>\n",
       "      <td>NaN</td>\n",
       "      <td>HAJ</td>\n",
       "    </tr>\n",
       "    <tr>\n",
       "      <th>1</th>\n",
       "      <td>2015-01-02</td>\n",
       "      <td>NaN</td>\n",
       "      <td>NaN</td>\n",
       "      <td>22.0</td>\n",
       "      <td>4.90</td>\n",
       "      <td>2624.0</td>\n",
       "      <td>NaN</td>\n",
       "      <td>HAJ</td>\n",
       "    </tr>\n",
       "    <tr>\n",
       "      <th>2</th>\n",
       "      <td>2015-01-03</td>\n",
       "      <td>106.0</td>\n",
       "      <td>NaN</td>\n",
       "      <td>26.2</td>\n",
       "      <td>7.70</td>\n",
       "      <td>2809.0</td>\n",
       "      <td>NaN</td>\n",
       "      <td>HAJ</td>\n",
       "    </tr>\n",
       "    <tr>\n",
       "      <th>3</th>\n",
       "      <td>2015-01-04</td>\n",
       "      <td>46.0</td>\n",
       "      <td>NaN</td>\n",
       "      <td>21.6</td>\n",
       "      <td>4.92</td>\n",
       "      <td>2460.0</td>\n",
       "      <td>NaN</td>\n",
       "      <td>HAJ</td>\n",
       "    </tr>\n",
       "    <tr>\n",
       "      <th>4</th>\n",
       "      <td>2015-01-05</td>\n",
       "      <td>74.1</td>\n",
       "      <td>NaN</td>\n",
       "      <td>25.8</td>\n",
       "      <td>10.50</td>\n",
       "      <td>2623.0</td>\n",
       "      <td>NaN</td>\n",
       "      <td>HAJ</td>\n",
       "    </tr>\n",
       "    <tr>\n",
       "      <th>...</th>\n",
       "      <td>...</td>\n",
       "      <td>...</td>\n",
       "      <td>...</td>\n",
       "      <td>...</td>\n",
       "      <td>...</td>\n",
       "      <td>...</td>\n",
       "      <td>...</td>\n",
       "      <td>...</td>\n",
       "    </tr>\n",
       "    <tr>\n",
       "      <th>5054</th>\n",
       "      <td>2019-12-27</td>\n",
       "      <td>43.1</td>\n",
       "      <td>NaN</td>\n",
       "      <td>14.7</td>\n",
       "      <td>3.54</td>\n",
       "      <td>NaN</td>\n",
       "      <td>NaN</td>\n",
       "      <td>MAS</td>\n",
       "    </tr>\n",
       "    <tr>\n",
       "      <th>5055</th>\n",
       "      <td>2019-12-28</td>\n",
       "      <td>22.6</td>\n",
       "      <td>NaN</td>\n",
       "      <td>20.6</td>\n",
       "      <td>3.62</td>\n",
       "      <td>NaN</td>\n",
       "      <td>NaN</td>\n",
       "      <td>MAS</td>\n",
       "    </tr>\n",
       "    <tr>\n",
       "      <th>5056</th>\n",
       "      <td>2019-12-29</td>\n",
       "      <td>70.0</td>\n",
       "      <td>NaN</td>\n",
       "      <td>29.0</td>\n",
       "      <td>4.05</td>\n",
       "      <td>NaN</td>\n",
       "      <td>NaN</td>\n",
       "      <td>MAS</td>\n",
       "    </tr>\n",
       "    <tr>\n",
       "      <th>5057</th>\n",
       "      <td>2019-12-30</td>\n",
       "      <td>81.2</td>\n",
       "      <td>NaN</td>\n",
       "      <td>29.0</td>\n",
       "      <td>4.07</td>\n",
       "      <td>NaN</td>\n",
       "      <td>NaN</td>\n",
       "      <td>MAS</td>\n",
       "    </tr>\n",
       "    <tr>\n",
       "      <th>5058</th>\n",
       "      <td>2019-12-31</td>\n",
       "      <td>95.8</td>\n",
       "      <td>NaN</td>\n",
       "      <td>35.1</td>\n",
       "      <td>4.28</td>\n",
       "      <td>NaN</td>\n",
       "      <td>NaN</td>\n",
       "      <td>MAS</td>\n",
       "    </tr>\n",
       "  </tbody>\n",
       "</table>\n",
       "<p>3652 rows × 8 columns</p>\n",
       "</div>"
      ],
      "text/plain": [
       "           Date   PM10  PM2p5   NO2    SO2      CO  O3  Sta\n",
       "0    2015-01-01    NaN    NaN  31.8  21.80  3362.0 NaN  HAJ\n",
       "1    2015-01-02    NaN    NaN  22.0   4.90  2624.0 NaN  HAJ\n",
       "2    2015-01-03  106.0    NaN  26.2   7.70  2809.0 NaN  HAJ\n",
       "3    2015-01-04   46.0    NaN  21.6   4.92  2460.0 NaN  HAJ\n",
       "4    2015-01-05   74.1    NaN  25.8  10.50  2623.0 NaN  HAJ\n",
       "...         ...    ...    ...   ...    ...     ...  ..  ...\n",
       "5054 2019-12-27   43.1    NaN  14.7   3.54     NaN NaN  MAS\n",
       "5055 2019-12-28   22.6    NaN  20.6   3.62     NaN NaN  MAS\n",
       "5056 2019-12-29   70.0    NaN  29.0   4.05     NaN NaN  MAS\n",
       "5057 2019-12-30   81.2    NaN  29.0   4.07     NaN NaN  MAS\n",
       "5058 2019-12-31   95.8    NaN  35.1   4.28     NaN NaN  MAS\n",
       "\n",
       "[3652 rows x 8 columns]"
      ]
     },
     "execution_count": 40,
     "metadata": {},
     "output_type": "execute_result"
    }
   ],
   "source": [
    "impute(amm, 'SO2')\n",
    "impute(irb, 'SO2')\n",
    "impute(zar, 'SO2')"
   ]
  },
  {
   "cell_type": "code",
   "execution_count": 41,
   "id": "fab1aa8a",
   "metadata": {},
   "outputs": [
    {
     "name": "stdout",
     "output_type": "stream",
     "text": [
      "3780\n",
      "1923\n",
      "62\n"
     ]
    }
   ],
   "source": [
    "print(len(amm[amm['SO2'].isna()]))\n",
    "print(len(irb[irb['SO2'].isna()]))\n",
    "print(len(zar[zar['SO2'].isna()]))"
   ]
  },
  {
   "cell_type": "markdown",
   "id": "ea2764c9",
   "metadata": {},
   "source": [
    "Check missing in city average"
   ]
  },
  {
   "cell_type": "code",
   "execution_count": 42,
   "id": "6832267a",
   "metadata": {},
   "outputs": [
    {
     "data": {
      "application/vnd.microsoft.datawrangler.viewer.v0+json": {
       "columns": [
        {
         "name": "index",
         "rawType": "object",
         "type": "string"
        },
        {
         "name": "0",
         "rawType": "int64",
         "type": "integer"
        }
       ],
       "ref": "b8c03533-3220-4cd1-9be7-6b1c7a45e845",
       "rows": [
        [
         "PM10",
         "34"
        ],
        [
         "NO2",
         "32"
        ],
        [
         "SO2",
         "32"
        ]
       ],
       "shape": {
        "columns": 1,
        "rows": 3
       }
      },
      "text/plain": [
       "PM10    34\n",
       "NO2     32\n",
       "SO2     32\n",
       "dtype: int64"
      ]
     },
     "execution_count": 42,
     "metadata": {},
     "output_type": "execute_result"
    }
   ],
   "source": [
    "amm.groupby('Date')[['PM10', 'NO2', 'SO2']].mean().isna().sum()"
   ]
  },
  {
   "cell_type": "code",
   "execution_count": 43,
   "id": "30698a1d",
   "metadata": {},
   "outputs": [
    {
     "data": {
      "application/vnd.microsoft.datawrangler.viewer.v0+json": {
       "columns": [
        {
         "name": "index",
         "rawType": "object",
         "type": "string"
        },
        {
         "name": "0",
         "rawType": "int64",
         "type": "integer"
        }
       ],
       "ref": "75852dc5-81fb-47f8-ae55-46d609466006",
       "rows": [
        [
         "PM10",
         "39"
        ],
        [
         "NO2",
         "33"
        ],
        [
         "SO2",
         "97"
        ]
       ],
       "shape": {
        "columns": 1,
        "rows": 3
       }
      },
      "text/plain": [
       "PM10    39\n",
       "NO2     33\n",
       "SO2     97\n",
       "dtype: int64"
      ]
     },
     "execution_count": 43,
     "metadata": {},
     "output_type": "execute_result"
    }
   ],
   "source": [
    "irb.groupby('Date')[['PM10', 'NO2', 'SO2']].mean().isna().sum()"
   ]
  },
  {
   "cell_type": "code",
   "execution_count": 44,
   "id": "d0330c26",
   "metadata": {},
   "outputs": [
    {
     "data": {
      "application/vnd.microsoft.datawrangler.viewer.v0+json": {
       "columns": [
        {
         "name": "index",
         "rawType": "object",
         "type": "string"
        },
        {
         "name": "0",
         "rawType": "int64",
         "type": "integer"
        }
       ],
       "ref": "5da5fd90-e998-4044-b541-fd56c84e162f",
       "rows": [
        [
         "PM10",
         "73"
        ],
        [
         "NO2",
         "31"
        ],
        [
         "SO2",
         "31"
        ]
       ],
       "shape": {
        "columns": 1,
        "rows": 3
       }
      },
      "text/plain": [
       "PM10    73\n",
       "NO2     31\n",
       "SO2     31\n",
       "dtype: int64"
      ]
     },
     "execution_count": 44,
     "metadata": {},
     "output_type": "execute_result"
    }
   ],
   "source": [
    "zar.groupby('Date')[['PM10', 'NO2', 'SO2']].mean().isna().sum()"
   ]
  },
  {
   "cell_type": "code",
   "execution_count": 45,
   "id": "f5644058",
   "metadata": {},
   "outputs": [],
   "source": [
    "amm.groupby('Date')[['PM10', 'NO2', 'SO2']].mean().to_excel('Amman.xlsx')\n",
    "irb.groupby('Date')[['PM10', 'NO2', 'SO2']].mean().to_excel('Irbid.xlsx')\n",
    "zar.groupby('Date')[['PM10', 'NO2', 'SO2']].mean().to_excel('Zarqaa.xlsx')"
   ]
  }
 ],
 "metadata": {
  "kernelspec": {
   "display_name": "tf-gpu",
   "language": "python",
   "name": "python3"
  },
  "language_info": {
   "codemirror_mode": {
    "name": "ipython",
    "version": 3
   },
   "file_extension": ".py",
   "mimetype": "text/x-python",
   "name": "python",
   "nbconvert_exporter": "python",
   "pygments_lexer": "ipython3",
   "version": "3.8.19"
  }
 },
 "nbformat": 4,
 "nbformat_minor": 5
}
